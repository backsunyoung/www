{
 "cells": [
  {
   "cell_type": "code",
   "execution_count": 1,
   "id": "0ca12471",
   "metadata": {
    "_cell_guid": "b1076dfc-b9ad-4769-8c92-a6c4dae69d19",
    "_uuid": "8f2839f25d086af736a60e9eeb907d3b93b6e0e5",
    "execution": {
     "iopub.execute_input": "2023-01-24T05:27:12.759942Z",
     "iopub.status.busy": "2023-01-24T05:27:12.759324Z",
     "iopub.status.idle": "2023-01-24T05:27:14.059485Z",
     "shell.execute_reply": "2023-01-24T05:27:14.058235Z"
    },
    "papermill": {
     "duration": 1.323472,
     "end_time": "2023-01-24T05:27:14.062220",
     "exception": false,
     "start_time": "2023-01-24T05:27:12.738748",
     "status": "completed"
    },
    "tags": []
   },
   "outputs": [
    {
     "name": "stdout",
     "output_type": "stream",
     "text": [
      "/kaggle/input/book-recommendation-dataset/Ratings.csv\n",
      "/kaggle/input/book-recommendation-dataset/Users.csv\n",
      "/kaggle/input/book-recommendation-dataset/Books.csv\n"
     ]
    }
   ],
   "source": [
    "# This Python 3 environment comes with many helpful analytics libraries installed\n",
    "# It is defined by the kaggle/python Docker image: https://github.com/kaggle/docker-python\n",
    "# For example, here's several helpful packages to load\n",
    "\n",
    "import numpy as np # linear algebra\n",
    "import pandas as pd # data processing, CSV file I/O (e.g. pd.read_csv)\n",
    "import seaborn as sns\n",
    "import matplotlib.pyplot as plt\n",
    "%matplotlib inline\n",
    "\n",
    "# Input data files are available in the read-only \"../input/\" directory\n",
    "# For example, running this (by clicking run or pressing Shift+Enter) will list all files under the input directory\n",
    "\n",
    "import os\n",
    "for dirname, _, filenames in os.walk('/kaggle/input'):\n",
    "    for filename in filenames:\n",
    "        print(os.path.join(dirname, filename))\n",
    "        \n",
    "\n",
    "# You can write up to 20GB to the current directory (/kaggle/working/) that gets preserved as output when you create a version using \"Save & Run All\" \n",
    "# You can also write temporary files to /kaggle/temp/, but they won't be saved outside of the current session\n",
    "from sklearn.preprocessing import MinMaxScaler"
   ]
  },
  {
   "cell_type": "code",
   "execution_count": 2,
   "id": "06b68824",
   "metadata": {
    "execution": {
     "iopub.execute_input": "2023-01-24T05:27:14.093203Z",
     "iopub.status.busy": "2023-01-24T05:27:14.092451Z",
     "iopub.status.idle": "2023-01-24T05:27:16.765082Z",
     "shell.execute_reply": "2023-01-24T05:27:16.763215Z"
    },
    "papermill": {
     "duration": 2.69103,
     "end_time": "2023-01-24T05:27:16.767827",
     "exception": false,
     "start_time": "2023-01-24T05:27:14.076797",
     "status": "completed"
    },
    "tags": []
   },
   "outputs": [
    {
     "name": "stderr",
     "output_type": "stream",
     "text": [
      "/opt/conda/lib/python3.7/site-packages/IPython/core/interactiveshell.py:3552: DtypeWarning: Columns (3) have mixed types.Specify dtype option on import or set low_memory=False.\n",
      "  exec(code_obj, self.user_global_ns, self.user_ns)\n"
     ]
    }
   ],
   "source": [
    "#read all the input files\n",
    "books = pd.read_csv(\"../input/book-recommendation-dataset/Books.csv\")"
   ]
  },
  {
   "cell_type": "code",
   "execution_count": 3,
   "id": "c461d3c8",
   "metadata": {
    "execution": {
     "iopub.execute_input": "2023-01-24T05:27:16.799227Z",
     "iopub.status.busy": "2023-01-24T05:27:16.798788Z",
     "iopub.status.idle": "2023-01-24T05:27:18.097575Z",
     "shell.execute_reply": "2023-01-24T05:27:18.095973Z"
    },
    "papermill": {
     "duration": 1.31796,
     "end_time": "2023-01-24T05:27:18.100443",
     "exception": false,
     "start_time": "2023-01-24T05:27:16.782483",
     "status": "completed"
    },
    "tags": []
   },
   "outputs": [],
   "source": [
    "users = pd.read_csv(\"../input/book-recommendation-dataset/Users.csv\")\n",
    "ratings = pd.read_csv(\"../input/book-recommendation-dataset/Ratings.csv\")"
   ]
  },
  {
   "cell_type": "code",
   "execution_count": 4,
   "id": "c24ff3e9",
   "metadata": {
    "execution": {
     "iopub.execute_input": "2023-01-24T05:27:18.134451Z",
     "iopub.status.busy": "2023-01-24T05:27:18.133988Z",
     "iopub.status.idle": "2023-01-24T05:27:18.139516Z",
     "shell.execute_reply": "2023-01-24T05:27:18.138321Z"
    },
    "papermill": {
     "duration": 0.025073,
     "end_time": "2023-01-24T05:27:18.141806",
     "exception": false,
     "start_time": "2023-01-24T05:27:18.116733",
     "status": "completed"
    },
    "tags": []
   },
   "outputs": [],
   "source": [
    "#Selecting only useful information ( removing image URLs)\n",
    "books = books.iloc[:,:5]"
   ]
  },
  {
   "cell_type": "code",
   "execution_count": 5,
   "id": "7c45cd0c",
   "metadata": {
    "execution": {
     "iopub.execute_input": "2023-01-24T05:27:18.172972Z",
     "iopub.status.busy": "2023-01-24T05:27:18.172505Z",
     "iopub.status.idle": "2023-01-24T05:27:18.197307Z",
     "shell.execute_reply": "2023-01-24T05:27:18.196142Z"
    },
    "papermill": {
     "duration": 0.043728,
     "end_time": "2023-01-24T05:27:18.200226",
     "exception": false,
     "start_time": "2023-01-24T05:27:18.156498",
     "status": "completed"
    },
    "tags": []
   },
   "outputs": [
    {
     "data": {
      "text/html": [
       "<div>\n",
       "<style scoped>\n",
       "    .dataframe tbody tr th:only-of-type {\n",
       "        vertical-align: middle;\n",
       "    }\n",
       "\n",
       "    .dataframe tbody tr th {\n",
       "        vertical-align: top;\n",
       "    }\n",
       "\n",
       "    .dataframe thead th {\n",
       "        text-align: right;\n",
       "    }\n",
       "</style>\n",
       "<table border=\"1\" class=\"dataframe\">\n",
       "  <thead>\n",
       "    <tr style=\"text-align: right;\">\n",
       "      <th></th>\n",
       "      <th>ISBN</th>\n",
       "      <th>Book-Title</th>\n",
       "      <th>Book-Author</th>\n",
       "      <th>Year-Of-Publication</th>\n",
       "      <th>Publisher</th>\n",
       "    </tr>\n",
       "  </thead>\n",
       "  <tbody>\n",
       "    <tr>\n",
       "      <th>0</th>\n",
       "      <td>0195153448</td>\n",
       "      <td>Classical Mythology</td>\n",
       "      <td>Mark P. O. Morford</td>\n",
       "      <td>2002</td>\n",
       "      <td>Oxford University Press</td>\n",
       "    </tr>\n",
       "    <tr>\n",
       "      <th>1</th>\n",
       "      <td>0002005018</td>\n",
       "      <td>Clara Callan</td>\n",
       "      <td>Richard Bruce Wright</td>\n",
       "      <td>2001</td>\n",
       "      <td>HarperFlamingo Canada</td>\n",
       "    </tr>\n",
       "    <tr>\n",
       "      <th>2</th>\n",
       "      <td>0060973129</td>\n",
       "      <td>Decision in Normandy</td>\n",
       "      <td>Carlo D'Este</td>\n",
       "      <td>1991</td>\n",
       "      <td>HarperPerennial</td>\n",
       "    </tr>\n",
       "    <tr>\n",
       "      <th>3</th>\n",
       "      <td>0374157065</td>\n",
       "      <td>Flu: The Story of the Great Influenza Pandemic...</td>\n",
       "      <td>Gina Bari Kolata</td>\n",
       "      <td>1999</td>\n",
       "      <td>Farrar Straus Giroux</td>\n",
       "    </tr>\n",
       "    <tr>\n",
       "      <th>4</th>\n",
       "      <td>0393045218</td>\n",
       "      <td>The Mummies of Urumchi</td>\n",
       "      <td>E. J. W. Barber</td>\n",
       "      <td>1999</td>\n",
       "      <td>W. W. Norton &amp;amp; Company</td>\n",
       "    </tr>\n",
       "  </tbody>\n",
       "</table>\n",
       "</div>"
      ],
      "text/plain": [
       "         ISBN                                         Book-Title  \\\n",
       "0  0195153448                                Classical Mythology   \n",
       "1  0002005018                                       Clara Callan   \n",
       "2  0060973129                               Decision in Normandy   \n",
       "3  0374157065  Flu: The Story of the Great Influenza Pandemic...   \n",
       "4  0393045218                             The Mummies of Urumchi   \n",
       "\n",
       "            Book-Author Year-Of-Publication                   Publisher  \n",
       "0    Mark P. O. Morford                2002     Oxford University Press  \n",
       "1  Richard Bruce Wright                2001       HarperFlamingo Canada  \n",
       "2          Carlo D'Este                1991             HarperPerennial  \n",
       "3      Gina Bari Kolata                1999        Farrar Straus Giroux  \n",
       "4       E. J. W. Barber                1999  W. W. Norton &amp; Company  "
      ]
     },
     "execution_count": 5,
     "metadata": {},
     "output_type": "execute_result"
    }
   ],
   "source": [
    "books.head()"
   ]
  },
  {
   "cell_type": "code",
   "execution_count": 6,
   "id": "19e3dff1",
   "metadata": {
    "execution": {
     "iopub.execute_input": "2023-01-24T05:27:18.232614Z",
     "iopub.status.busy": "2023-01-24T05:27:18.232205Z",
     "iopub.status.idle": "2023-01-24T05:27:18.244524Z",
     "shell.execute_reply": "2023-01-24T05:27:18.243277Z"
    },
    "papermill": {
     "duration": 0.031544,
     "end_time": "2023-01-24T05:27:18.247072",
     "exception": false,
     "start_time": "2023-01-24T05:27:18.215528",
     "status": "completed"
    },
    "tags": []
   },
   "outputs": [
    {
     "data": {
      "text/html": [
       "<div>\n",
       "<style scoped>\n",
       "    .dataframe tbody tr th:only-of-type {\n",
       "        vertical-align: middle;\n",
       "    }\n",
       "\n",
       "    .dataframe tbody tr th {\n",
       "        vertical-align: top;\n",
       "    }\n",
       "\n",
       "    .dataframe thead th {\n",
       "        text-align: right;\n",
       "    }\n",
       "</style>\n",
       "<table border=\"1\" class=\"dataframe\">\n",
       "  <thead>\n",
       "    <tr style=\"text-align: right;\">\n",
       "      <th></th>\n",
       "      <th>User-ID</th>\n",
       "      <th>Location</th>\n",
       "      <th>Age</th>\n",
       "    </tr>\n",
       "  </thead>\n",
       "  <tbody>\n",
       "    <tr>\n",
       "      <th>0</th>\n",
       "      <td>1</td>\n",
       "      <td>nyc, new york, usa</td>\n",
       "      <td>NaN</td>\n",
       "    </tr>\n",
       "    <tr>\n",
       "      <th>1</th>\n",
       "      <td>2</td>\n",
       "      <td>stockton, california, usa</td>\n",
       "      <td>18.0</td>\n",
       "    </tr>\n",
       "    <tr>\n",
       "      <th>2</th>\n",
       "      <td>3</td>\n",
       "      <td>moscow, yukon territory, russia</td>\n",
       "      <td>NaN</td>\n",
       "    </tr>\n",
       "    <tr>\n",
       "      <th>3</th>\n",
       "      <td>4</td>\n",
       "      <td>porto, v.n.gaia, portugal</td>\n",
       "      <td>17.0</td>\n",
       "    </tr>\n",
       "    <tr>\n",
       "      <th>4</th>\n",
       "      <td>5</td>\n",
       "      <td>farnborough, hants, united kingdom</td>\n",
       "      <td>NaN</td>\n",
       "    </tr>\n",
       "  </tbody>\n",
       "</table>\n",
       "</div>"
      ],
      "text/plain": [
       "   User-ID                            Location   Age\n",
       "0        1                  nyc, new york, usa   NaN\n",
       "1        2           stockton, california, usa  18.0\n",
       "2        3     moscow, yukon territory, russia   NaN\n",
       "3        4           porto, v.n.gaia, portugal  17.0\n",
       "4        5  farnborough, hants, united kingdom   NaN"
      ]
     },
     "execution_count": 6,
     "metadata": {},
     "output_type": "execute_result"
    }
   ],
   "source": [
    "users.head()"
   ]
  },
  {
   "cell_type": "code",
   "execution_count": 7,
   "id": "a313de4b",
   "metadata": {
    "execution": {
     "iopub.execute_input": "2023-01-24T05:27:18.279017Z",
     "iopub.status.busy": "2023-01-24T05:27:18.278599Z",
     "iopub.status.idle": "2023-01-24T05:27:18.289915Z",
     "shell.execute_reply": "2023-01-24T05:27:18.288763Z"
    },
    "papermill": {
     "duration": 0.03023,
     "end_time": "2023-01-24T05:27:18.292363",
     "exception": false,
     "start_time": "2023-01-24T05:27:18.262133",
     "status": "completed"
    },
    "tags": []
   },
   "outputs": [
    {
     "data": {
      "text/html": [
       "<div>\n",
       "<style scoped>\n",
       "    .dataframe tbody tr th:only-of-type {\n",
       "        vertical-align: middle;\n",
       "    }\n",
       "\n",
       "    .dataframe tbody tr th {\n",
       "        vertical-align: top;\n",
       "    }\n",
       "\n",
       "    .dataframe thead th {\n",
       "        text-align: right;\n",
       "    }\n",
       "</style>\n",
       "<table border=\"1\" class=\"dataframe\">\n",
       "  <thead>\n",
       "    <tr style=\"text-align: right;\">\n",
       "      <th></th>\n",
       "      <th>User-ID</th>\n",
       "      <th>ISBN</th>\n",
       "      <th>Book-Rating</th>\n",
       "    </tr>\n",
       "  </thead>\n",
       "  <tbody>\n",
       "    <tr>\n",
       "      <th>0</th>\n",
       "      <td>276725</td>\n",
       "      <td>034545104X</td>\n",
       "      <td>0</td>\n",
       "    </tr>\n",
       "    <tr>\n",
       "      <th>1</th>\n",
       "      <td>276726</td>\n",
       "      <td>0155061224</td>\n",
       "      <td>5</td>\n",
       "    </tr>\n",
       "    <tr>\n",
       "      <th>2</th>\n",
       "      <td>276727</td>\n",
       "      <td>0446520802</td>\n",
       "      <td>0</td>\n",
       "    </tr>\n",
       "    <tr>\n",
       "      <th>3</th>\n",
       "      <td>276729</td>\n",
       "      <td>052165615X</td>\n",
       "      <td>3</td>\n",
       "    </tr>\n",
       "    <tr>\n",
       "      <th>4</th>\n",
       "      <td>276729</td>\n",
       "      <td>0521795028</td>\n",
       "      <td>6</td>\n",
       "    </tr>\n",
       "  </tbody>\n",
       "</table>\n",
       "</div>"
      ],
      "text/plain": [
       "   User-ID        ISBN  Book-Rating\n",
       "0   276725  034545104X            0\n",
       "1   276726  0155061224            5\n",
       "2   276727  0446520802            0\n",
       "3   276729  052165615X            3\n",
       "4   276729  0521795028            6"
      ]
     },
     "execution_count": 7,
     "metadata": {},
     "output_type": "execute_result"
    }
   ],
   "source": [
    "ratings.head()"
   ]
  },
  {
   "cell_type": "code",
   "execution_count": 8,
   "id": "602c02de",
   "metadata": {
    "execution": {
     "iopub.execute_input": "2023-01-24T05:27:18.324821Z",
     "iopub.status.busy": "2023-01-24T05:27:18.324368Z",
     "iopub.status.idle": "2023-01-24T05:27:18.519316Z",
     "shell.execute_reply": "2023-01-24T05:27:18.518215Z"
    },
    "papermill": {
     "duration": 0.214553,
     "end_time": "2023-01-24T05:27:18.522129",
     "exception": false,
     "start_time": "2023-01-24T05:27:18.307576",
     "status": "completed"
    },
    "tags": []
   },
   "outputs": [],
   "source": [
    "#Groupby to see which user has rated how many books\n",
    "user_rating_count = ratings.groupby('User-ID').count().sort_values(by = 'ISBN', ascending = False)"
   ]
  },
  {
   "cell_type": "code",
   "execution_count": 9,
   "id": "d64b00a9",
   "metadata": {
    "execution": {
     "iopub.execute_input": "2023-01-24T05:27:18.555274Z",
     "iopub.status.busy": "2023-01-24T05:27:18.553915Z",
     "iopub.status.idle": "2023-01-24T05:27:18.561701Z",
     "shell.execute_reply": "2023-01-24T05:27:18.560793Z"
    },
    "papermill": {
     "duration": 0.026736,
     "end_time": "2023-01-24T05:27:18.564134",
     "exception": false,
     "start_time": "2023-01-24T05:27:18.537398",
     "status": "completed"
    },
    "tags": []
   },
   "outputs": [
    {
     "data": {
      "text/plain": [
       "(105283, 2)"
      ]
     },
     "execution_count": 9,
     "metadata": {},
     "output_type": "execute_result"
    }
   ],
   "source": [
    "user_rating_count.shape"
   ]
  },
  {
   "cell_type": "code",
   "execution_count": 10,
   "id": "d439b849",
   "metadata": {
    "execution": {
     "iopub.execute_input": "2023-01-24T05:27:18.597661Z",
     "iopub.status.busy": "2023-01-24T05:27:18.596860Z",
     "iopub.status.idle": "2023-01-24T05:27:18.604671Z",
     "shell.execute_reply": "2023-01-24T05:27:18.603305Z"
    },
    "papermill": {
     "duration": 0.027729,
     "end_time": "2023-01-24T05:27:18.607141",
     "exception": false,
     "start_time": "2023-01-24T05:27:18.579412",
     "status": "completed"
    },
    "tags": []
   },
   "outputs": [],
   "source": [
    "#keep only those users who have given ratings to more than 100 books)\n",
    "user_rating_count = user_rating_count[user_rating_count['ISBN']>300]"
   ]
  },
  {
   "cell_type": "code",
   "execution_count": 11,
   "id": "3ff66a2f",
   "metadata": {
    "execution": {
     "iopub.execute_input": "2023-01-24T05:27:18.640561Z",
     "iopub.status.busy": "2023-01-24T05:27:18.639856Z",
     "iopub.status.idle": "2023-01-24T05:27:18.646911Z",
     "shell.execute_reply": "2023-01-24T05:27:18.645887Z"
    },
    "papermill": {
     "duration": 0.026638,
     "end_time": "2023-01-24T05:27:18.649210",
     "exception": false,
     "start_time": "2023-01-24T05:27:18.622572",
     "status": "completed"
    },
    "tags": []
   },
   "outputs": [
    {
     "data": {
      "text/plain": [
       "(559, 2)"
      ]
     },
     "execution_count": 11,
     "metadata": {},
     "output_type": "execute_result"
    }
   ],
   "source": [
    "user_rating_count.shape"
   ]
  },
  {
   "cell_type": "code",
   "execution_count": 12,
   "id": "8df420e9",
   "metadata": {
    "execution": {
     "iopub.execute_input": "2023-01-24T05:27:18.681586Z",
     "iopub.status.busy": "2023-01-24T05:27:18.681199Z",
     "iopub.status.idle": "2023-01-24T05:27:19.536566Z",
     "shell.execute_reply": "2023-01-24T05:27:19.535351Z"
    },
    "papermill": {
     "duration": 0.874976,
     "end_time": "2023-01-24T05:27:19.539343",
     "exception": false,
     "start_time": "2023-01-24T05:27:18.664367",
     "status": "completed"
    },
    "tags": []
   },
   "outputs": [],
   "source": [
    "#Get counts of the ratings for each book\n",
    "book_rating_count = ratings.groupby('ISBN').count().sort_values(by = 'Book-Rating', ascending = False)"
   ]
  },
  {
   "cell_type": "code",
   "execution_count": 13,
   "id": "eba8eb2d",
   "metadata": {
    "execution": {
     "iopub.execute_input": "2023-01-24T05:27:19.572965Z",
     "iopub.status.busy": "2023-01-24T05:27:19.572521Z",
     "iopub.status.idle": "2023-01-24T05:27:19.582865Z",
     "shell.execute_reply": "2023-01-24T05:27:19.581824Z"
    },
    "papermill": {
     "duration": 0.029919,
     "end_time": "2023-01-24T05:27:19.585220",
     "exception": false,
     "start_time": "2023-01-24T05:27:19.555301",
     "status": "completed"
    },
    "tags": []
   },
   "outputs": [
    {
     "data": {
      "text/html": [
       "<div>\n",
       "<style scoped>\n",
       "    .dataframe tbody tr th:only-of-type {\n",
       "        vertical-align: middle;\n",
       "    }\n",
       "\n",
       "    .dataframe tbody tr th {\n",
       "        vertical-align: top;\n",
       "    }\n",
       "\n",
       "    .dataframe thead th {\n",
       "        text-align: right;\n",
       "    }\n",
       "</style>\n",
       "<table border=\"1\" class=\"dataframe\">\n",
       "  <thead>\n",
       "    <tr style=\"text-align: right;\">\n",
       "      <th></th>\n",
       "      <th>User-ID</th>\n",
       "      <th>Book-Rating</th>\n",
       "    </tr>\n",
       "    <tr>\n",
       "      <th>ISBN</th>\n",
       "      <th></th>\n",
       "      <th></th>\n",
       "    </tr>\n",
       "  </thead>\n",
       "  <tbody>\n",
       "    <tr>\n",
       "      <th>0971880107</th>\n",
       "      <td>2502</td>\n",
       "      <td>2502</td>\n",
       "    </tr>\n",
       "    <tr>\n",
       "      <th>0316666343</th>\n",
       "      <td>1295</td>\n",
       "      <td>1295</td>\n",
       "    </tr>\n",
       "    <tr>\n",
       "      <th>0385504209</th>\n",
       "      <td>883</td>\n",
       "      <td>883</td>\n",
       "    </tr>\n",
       "    <tr>\n",
       "      <th>0060928336</th>\n",
       "      <td>732</td>\n",
       "      <td>732</td>\n",
       "    </tr>\n",
       "    <tr>\n",
       "      <th>0312195516</th>\n",
       "      <td>723</td>\n",
       "      <td>723</td>\n",
       "    </tr>\n",
       "    <tr>\n",
       "      <th>044023722X</th>\n",
       "      <td>647</td>\n",
       "      <td>647</td>\n",
       "    </tr>\n",
       "    <tr>\n",
       "      <th>0679781587</th>\n",
       "      <td>639</td>\n",
       "      <td>639</td>\n",
       "    </tr>\n",
       "    <tr>\n",
       "      <th>0142001740</th>\n",
       "      <td>615</td>\n",
       "      <td>615</td>\n",
       "    </tr>\n",
       "    <tr>\n",
       "      <th>067976402X</th>\n",
       "      <td>614</td>\n",
       "      <td>614</td>\n",
       "    </tr>\n",
       "    <tr>\n",
       "      <th>0671027360</th>\n",
       "      <td>586</td>\n",
       "      <td>586</td>\n",
       "    </tr>\n",
       "  </tbody>\n",
       "</table>\n",
       "</div>"
      ],
      "text/plain": [
       "            User-ID  Book-Rating\n",
       "ISBN                            \n",
       "0971880107     2502         2502\n",
       "0316666343     1295         1295\n",
       "0385504209      883          883\n",
       "0060928336      732          732\n",
       "0312195516      723          723\n",
       "044023722X      647          647\n",
       "0679781587      639          639\n",
       "0142001740      615          615\n",
       "067976402X      614          614\n",
       "0671027360      586          586"
      ]
     },
     "execution_count": 13,
     "metadata": {},
     "output_type": "execute_result"
    }
   ],
   "source": [
    "book_rating_count.head(10)"
   ]
  },
  {
   "cell_type": "code",
   "execution_count": 14,
   "id": "c426b391",
   "metadata": {
    "execution": {
     "iopub.execute_input": "2023-01-24T05:27:19.618374Z",
     "iopub.status.busy": "2023-01-24T05:27:19.617495Z",
     "iopub.status.idle": "2023-01-24T05:27:19.624195Z",
     "shell.execute_reply": "2023-01-24T05:27:19.622921Z"
    },
    "papermill": {
     "duration": 0.025737,
     "end_time": "2023-01-24T05:27:19.626447",
     "exception": false,
     "start_time": "2023-01-24T05:27:19.600710",
     "status": "completed"
    },
    "tags": []
   },
   "outputs": [],
   "source": [
    "#only keep books with more than 50 ratings\n",
    "book_rating_count = book_rating_count[book_rating_count['User-ID'] > 300]"
   ]
  },
  {
   "cell_type": "code",
   "execution_count": 15,
   "id": "409a4f70",
   "metadata": {
    "execution": {
     "iopub.execute_input": "2023-01-24T05:27:19.660643Z",
     "iopub.status.busy": "2023-01-24T05:27:19.659875Z",
     "iopub.status.idle": "2023-01-24T05:27:20.532074Z",
     "shell.execute_reply": "2023-01-24T05:27:20.530957Z"
    },
    "papermill": {
     "duration": 0.892334,
     "end_time": "2023-01-24T05:27:20.534826",
     "exception": false,
     "start_time": "2023-01-24T05:27:19.642492",
     "status": "completed"
    },
    "tags": []
   },
   "outputs": [],
   "source": [
    "ratings = ratings.merge(books, on = 'ISBN')"
   ]
  },
  {
   "cell_type": "code",
   "execution_count": 16,
   "id": "1d59a500",
   "metadata": {
    "execution": {
     "iopub.execute_input": "2023-01-24T05:27:20.568458Z",
     "iopub.status.busy": "2023-01-24T05:27:20.567627Z",
     "iopub.status.idle": "2023-01-24T05:27:20.582170Z",
     "shell.execute_reply": "2023-01-24T05:27:20.580843Z"
    },
    "papermill": {
     "duration": 0.033885,
     "end_time": "2023-01-24T05:27:20.584570",
     "exception": false,
     "start_time": "2023-01-24T05:27:20.550685",
     "status": "completed"
    },
    "tags": []
   },
   "outputs": [
    {
     "data": {
      "text/html": [
       "<div>\n",
       "<style scoped>\n",
       "    .dataframe tbody tr th:only-of-type {\n",
       "        vertical-align: middle;\n",
       "    }\n",
       "\n",
       "    .dataframe tbody tr th {\n",
       "        vertical-align: top;\n",
       "    }\n",
       "\n",
       "    .dataframe thead th {\n",
       "        text-align: right;\n",
       "    }\n",
       "</style>\n",
       "<table border=\"1\" class=\"dataframe\">\n",
       "  <thead>\n",
       "    <tr style=\"text-align: right;\">\n",
       "      <th></th>\n",
       "      <th>User-ID</th>\n",
       "      <th>ISBN</th>\n",
       "      <th>Book-Rating</th>\n",
       "      <th>Book-Title</th>\n",
       "      <th>Book-Author</th>\n",
       "      <th>Year-Of-Publication</th>\n",
       "      <th>Publisher</th>\n",
       "    </tr>\n",
       "  </thead>\n",
       "  <tbody>\n",
       "    <tr>\n",
       "      <th>0</th>\n",
       "      <td>276725</td>\n",
       "      <td>034545104X</td>\n",
       "      <td>0</td>\n",
       "      <td>Flesh Tones: A Novel</td>\n",
       "      <td>M. J. Rose</td>\n",
       "      <td>2002</td>\n",
       "      <td>Ballantine Books</td>\n",
       "    </tr>\n",
       "    <tr>\n",
       "      <th>1</th>\n",
       "      <td>2313</td>\n",
       "      <td>034545104X</td>\n",
       "      <td>5</td>\n",
       "      <td>Flesh Tones: A Novel</td>\n",
       "      <td>M. J. Rose</td>\n",
       "      <td>2002</td>\n",
       "      <td>Ballantine Books</td>\n",
       "    </tr>\n",
       "    <tr>\n",
       "      <th>2</th>\n",
       "      <td>6543</td>\n",
       "      <td>034545104X</td>\n",
       "      <td>0</td>\n",
       "      <td>Flesh Tones: A Novel</td>\n",
       "      <td>M. J. Rose</td>\n",
       "      <td>2002</td>\n",
       "      <td>Ballantine Books</td>\n",
       "    </tr>\n",
       "    <tr>\n",
       "      <th>3</th>\n",
       "      <td>8680</td>\n",
       "      <td>034545104X</td>\n",
       "      <td>5</td>\n",
       "      <td>Flesh Tones: A Novel</td>\n",
       "      <td>M. J. Rose</td>\n",
       "      <td>2002</td>\n",
       "      <td>Ballantine Books</td>\n",
       "    </tr>\n",
       "    <tr>\n",
       "      <th>4</th>\n",
       "      <td>10314</td>\n",
       "      <td>034545104X</td>\n",
       "      <td>9</td>\n",
       "      <td>Flesh Tones: A Novel</td>\n",
       "      <td>M. J. Rose</td>\n",
       "      <td>2002</td>\n",
       "      <td>Ballantine Books</td>\n",
       "    </tr>\n",
       "  </tbody>\n",
       "</table>\n",
       "</div>"
      ],
      "text/plain": [
       "   User-ID        ISBN  Book-Rating            Book-Title Book-Author  \\\n",
       "0   276725  034545104X            0  Flesh Tones: A Novel  M. J. Rose   \n",
       "1     2313  034545104X            5  Flesh Tones: A Novel  M. J. Rose   \n",
       "2     6543  034545104X            0  Flesh Tones: A Novel  M. J. Rose   \n",
       "3     8680  034545104X            5  Flesh Tones: A Novel  M. J. Rose   \n",
       "4    10314  034545104X            9  Flesh Tones: A Novel  M. J. Rose   \n",
       "\n",
       "  Year-Of-Publication         Publisher  \n",
       "0                2002  Ballantine Books  \n",
       "1                2002  Ballantine Books  \n",
       "2                2002  Ballantine Books  \n",
       "3                2002  Ballantine Books  \n",
       "4                2002  Ballantine Books  "
      ]
     },
     "execution_count": 16,
     "metadata": {},
     "output_type": "execute_result"
    }
   ],
   "source": [
    "ratings.head()"
   ]
  },
  {
   "cell_type": "code",
   "execution_count": 17,
   "id": "dde6a4c5",
   "metadata": {
    "execution": {
     "iopub.execute_input": "2023-01-24T05:27:20.619072Z",
     "iopub.status.busy": "2023-01-24T05:27:20.618259Z",
     "iopub.status.idle": "2023-01-24T05:27:20.625509Z",
     "shell.execute_reply": "2023-01-24T05:27:20.624378Z"
    },
    "papermill": {
     "duration": 0.027219,
     "end_time": "2023-01-24T05:27:20.627644",
     "exception": false,
     "start_time": "2023-01-24T05:27:20.600425",
     "status": "completed"
    },
    "tags": []
   },
   "outputs": [
    {
     "data": {
      "text/plain": [
       "(1031136, 7)"
      ]
     },
     "execution_count": 17,
     "metadata": {},
     "output_type": "execute_result"
    }
   ],
   "source": [
    "ratings.shape"
   ]
  },
  {
   "cell_type": "code",
   "execution_count": 18,
   "id": "56a3a612",
   "metadata": {
    "execution": {
     "iopub.execute_input": "2023-01-24T05:27:20.661612Z",
     "iopub.status.busy": "2023-01-24T05:27:20.661228Z",
     "iopub.status.idle": "2023-01-24T05:27:21.007799Z",
     "shell.execute_reply": "2023-01-24T05:27:21.006686Z"
    },
    "papermill": {
     "duration": 0.367101,
     "end_time": "2023-01-24T05:27:21.011115",
     "exception": false,
     "start_time": "2023-01-24T05:27:20.644014",
     "status": "completed"
    },
    "tags": []
   },
   "outputs": [],
   "source": [
    "ratings = ratings[ratings['User-ID'].isin(user_rating_count.index)]"
   ]
  },
  {
   "cell_type": "code",
   "execution_count": 19,
   "id": "20e38368",
   "metadata": {
    "execution": {
     "iopub.execute_input": "2023-01-24T05:27:21.046441Z",
     "iopub.status.busy": "2023-01-24T05:27:21.045667Z",
     "iopub.status.idle": "2023-01-24T05:27:21.109093Z",
     "shell.execute_reply": "2023-01-24T05:27:21.107924Z"
    },
    "papermill": {
     "duration": 0.083589,
     "end_time": "2023-01-24T05:27:21.111849",
     "exception": false,
     "start_time": "2023-01-24T05:27:21.028260",
     "status": "completed"
    },
    "tags": []
   },
   "outputs": [],
   "source": [
    "ratings = ratings[ratings['ISBN'].isin(book_rating_count.index)]"
   ]
  },
  {
   "cell_type": "code",
   "execution_count": 20,
   "id": "3fa70852",
   "metadata": {
    "execution": {
     "iopub.execute_input": "2023-01-24T05:27:21.146138Z",
     "iopub.status.busy": "2023-01-24T05:27:21.145305Z",
     "iopub.status.idle": "2023-01-24T05:27:21.161230Z",
     "shell.execute_reply": "2023-01-24T05:27:21.159987Z"
    },
    "papermill": {
     "duration": 0.035933,
     "end_time": "2023-01-24T05:27:21.163716",
     "exception": false,
     "start_time": "2023-01-24T05:27:21.127783",
     "status": "completed"
    },
    "tags": []
   },
   "outputs": [
    {
     "data": {
      "text/html": [
       "<div>\n",
       "<style scoped>\n",
       "    .dataframe tbody tr th:only-of-type {\n",
       "        vertical-align: middle;\n",
       "    }\n",
       "\n",
       "    .dataframe tbody tr th {\n",
       "        vertical-align: top;\n",
       "    }\n",
       "\n",
       "    .dataframe thead th {\n",
       "        text-align: right;\n",
       "    }\n",
       "</style>\n",
       "<table border=\"1\" class=\"dataframe\">\n",
       "  <thead>\n",
       "    <tr style=\"text-align: right;\">\n",
       "      <th></th>\n",
       "      <th>User-ID</th>\n",
       "      <th>ISBN</th>\n",
       "      <th>Book-Rating</th>\n",
       "      <th>Book-Title</th>\n",
       "      <th>Book-Author</th>\n",
       "      <th>Year-Of-Publication</th>\n",
       "      <th>Publisher</th>\n",
       "    </tr>\n",
       "  </thead>\n",
       "  <tbody>\n",
       "    <tr>\n",
       "      <th>1994</th>\n",
       "      <td>254</td>\n",
       "      <td>043935806X</td>\n",
       "      <td>0</td>\n",
       "      <td>Harry Potter and the Order of the Phoenix (Boo...</td>\n",
       "      <td>J. K. Rowling</td>\n",
       "      <td>2003</td>\n",
       "      <td>Scholastic</td>\n",
       "    </tr>\n",
       "    <tr>\n",
       "      <th>1997</th>\n",
       "      <td>6251</td>\n",
       "      <td>043935806X</td>\n",
       "      <td>9</td>\n",
       "      <td>Harry Potter and the Order of the Phoenix (Boo...</td>\n",
       "      <td>J. K. Rowling</td>\n",
       "      <td>2003</td>\n",
       "      <td>Scholastic</td>\n",
       "    </tr>\n",
       "    <tr>\n",
       "      <th>2000</th>\n",
       "      <td>6575</td>\n",
       "      <td>043935806X</td>\n",
       "      <td>0</td>\n",
       "      <td>Harry Potter and the Order of the Phoenix (Boo...</td>\n",
       "      <td>J. K. Rowling</td>\n",
       "      <td>2003</td>\n",
       "      <td>Scholastic</td>\n",
       "    </tr>\n",
       "    <tr>\n",
       "      <th>2004</th>\n",
       "      <td>11676</td>\n",
       "      <td>043935806X</td>\n",
       "      <td>0</td>\n",
       "      <td>Harry Potter and the Order of the Phoenix (Boo...</td>\n",
       "      <td>J. K. Rowling</td>\n",
       "      <td>2003</td>\n",
       "      <td>Scholastic</td>\n",
       "    </tr>\n",
       "    <tr>\n",
       "      <th>2011</th>\n",
       "      <td>21014</td>\n",
       "      <td>043935806X</td>\n",
       "      <td>0</td>\n",
       "      <td>Harry Potter and the Order of the Phoenix (Boo...</td>\n",
       "      <td>J. K. Rowling</td>\n",
       "      <td>2003</td>\n",
       "      <td>Scholastic</td>\n",
       "    </tr>\n",
       "    <tr>\n",
       "      <th>2017</th>\n",
       "      <td>25409</td>\n",
       "      <td>043935806X</td>\n",
       "      <td>10</td>\n",
       "      <td>Harry Potter and the Order of the Phoenix (Boo...</td>\n",
       "      <td>J. K. Rowling</td>\n",
       "      <td>2003</td>\n",
       "      <td>Scholastic</td>\n",
       "    </tr>\n",
       "    <tr>\n",
       "      <th>2019</th>\n",
       "      <td>25981</td>\n",
       "      <td>043935806X</td>\n",
       "      <td>0</td>\n",
       "      <td>Harry Potter and the Order of the Phoenix (Boo...</td>\n",
       "      <td>J. K. Rowling</td>\n",
       "      <td>2003</td>\n",
       "      <td>Scholastic</td>\n",
       "    </tr>\n",
       "    <tr>\n",
       "      <th>2026</th>\n",
       "      <td>30711</td>\n",
       "      <td>043935806X</td>\n",
       "      <td>8</td>\n",
       "      <td>Harry Potter and the Order of the Phoenix (Boo...</td>\n",
       "      <td>J. K. Rowling</td>\n",
       "      <td>2003</td>\n",
       "      <td>Scholastic</td>\n",
       "    </tr>\n",
       "    <tr>\n",
       "      <th>2029</th>\n",
       "      <td>31826</td>\n",
       "      <td>043935806X</td>\n",
       "      <td>0</td>\n",
       "      <td>Harry Potter and the Order of the Phoenix (Boo...</td>\n",
       "      <td>J. K. Rowling</td>\n",
       "      <td>2003</td>\n",
       "      <td>Scholastic</td>\n",
       "    </tr>\n",
       "    <tr>\n",
       "      <th>2033</th>\n",
       "      <td>35859</td>\n",
       "      <td>043935806X</td>\n",
       "      <td>0</td>\n",
       "      <td>Harry Potter and the Order of the Phoenix (Boo...</td>\n",
       "      <td>J. K. Rowling</td>\n",
       "      <td>2003</td>\n",
       "      <td>Scholastic</td>\n",
       "    </tr>\n",
       "  </tbody>\n",
       "</table>\n",
       "</div>"
      ],
      "text/plain": [
       "      User-ID        ISBN  Book-Rating  \\\n",
       "1994      254  043935806X            0   \n",
       "1997     6251  043935806X            9   \n",
       "2000     6575  043935806X            0   \n",
       "2004    11676  043935806X            0   \n",
       "2011    21014  043935806X            0   \n",
       "2017    25409  043935806X           10   \n",
       "2019    25981  043935806X            0   \n",
       "2026    30711  043935806X            8   \n",
       "2029    31826  043935806X            0   \n",
       "2033    35859  043935806X            0   \n",
       "\n",
       "                                             Book-Title    Book-Author  \\\n",
       "1994  Harry Potter and the Order of the Phoenix (Boo...  J. K. Rowling   \n",
       "1997  Harry Potter and the Order of the Phoenix (Boo...  J. K. Rowling   \n",
       "2000  Harry Potter and the Order of the Phoenix (Boo...  J. K. Rowling   \n",
       "2004  Harry Potter and the Order of the Phoenix (Boo...  J. K. Rowling   \n",
       "2011  Harry Potter and the Order of the Phoenix (Boo...  J. K. Rowling   \n",
       "2017  Harry Potter and the Order of the Phoenix (Boo...  J. K. Rowling   \n",
       "2019  Harry Potter and the Order of the Phoenix (Boo...  J. K. Rowling   \n",
       "2026  Harry Potter and the Order of the Phoenix (Boo...  J. K. Rowling   \n",
       "2029  Harry Potter and the Order of the Phoenix (Boo...  J. K. Rowling   \n",
       "2033  Harry Potter and the Order of the Phoenix (Boo...  J. K. Rowling   \n",
       "\n",
       "     Year-Of-Publication   Publisher  \n",
       "1994                2003  Scholastic  \n",
       "1997                2003  Scholastic  \n",
       "2000                2003  Scholastic  \n",
       "2004                2003  Scholastic  \n",
       "2011                2003  Scholastic  \n",
       "2017                2003  Scholastic  \n",
       "2019                2003  Scholastic  \n",
       "2026                2003  Scholastic  \n",
       "2029                2003  Scholastic  \n",
       "2033                2003  Scholastic  "
      ]
     },
     "execution_count": 20,
     "metadata": {},
     "output_type": "execute_result"
    }
   ],
   "source": [
    "ratings.head(10)"
   ]
  },
  {
   "cell_type": "code",
   "execution_count": 21,
   "id": "804b124e",
   "metadata": {
    "execution": {
     "iopub.execute_input": "2023-01-24T05:27:21.199980Z",
     "iopub.status.busy": "2023-01-24T05:27:21.199530Z",
     "iopub.status.idle": "2023-01-24T05:27:21.229936Z",
     "shell.execute_reply": "2023-01-24T05:27:21.228690Z"
    },
    "papermill": {
     "duration": 0.05105,
     "end_time": "2023-01-24T05:27:21.232626",
     "exception": false,
     "start_time": "2023-01-24T05:27:21.181576",
     "status": "completed"
    },
    "tags": []
   },
   "outputs": [],
   "source": [
    "piv_table = ratings.pivot_table(columns = \"User-ID\", index = \"ISBN\", values = \"Book-Rating\")"
   ]
  },
  {
   "cell_type": "code",
   "execution_count": 22,
   "id": "eefd33fd",
   "metadata": {
    "execution": {
     "iopub.execute_input": "2023-01-24T05:27:21.268251Z",
     "iopub.status.busy": "2023-01-24T05:27:21.267788Z",
     "iopub.status.idle": "2023-01-24T05:27:21.274992Z",
     "shell.execute_reply": "2023-01-24T05:27:21.273849Z"
    },
    "papermill": {
     "duration": 0.02803,
     "end_time": "2023-01-24T05:27:21.277617",
     "exception": false,
     "start_time": "2023-01-24T05:27:21.249587",
     "status": "completed"
    },
    "tags": []
   },
   "outputs": [
    {
     "data": {
      "text/plain": [
       "(81, 539)"
      ]
     },
     "execution_count": 22,
     "metadata": {},
     "output_type": "execute_result"
    }
   ],
   "source": [
    "piv_table.shape"
   ]
  },
  {
   "cell_type": "markdown",
   "id": "00c40a6f",
   "metadata": {
    "papermill": {
     "duration": 0.016098,
     "end_time": "2023-01-24T05:27:21.310318",
     "exception": false,
     "start_time": "2023-01-24T05:27:21.294220",
     "status": "completed"
    },
    "tags": []
   },
   "source": [
    "So we have 2101 books and 1792 users.\n"
   ]
  },
  {
   "cell_type": "code",
   "execution_count": 23,
   "id": "040adf33",
   "metadata": {
    "execution": {
     "iopub.execute_input": "2023-01-24T05:27:21.345494Z",
     "iopub.status.busy": "2023-01-24T05:27:21.345078Z",
     "iopub.status.idle": "2023-01-24T05:27:21.383943Z",
     "shell.execute_reply": "2023-01-24T05:27:21.382759Z"
    },
    "papermill": {
     "duration": 0.059893,
     "end_time": "2023-01-24T05:27:21.386630",
     "exception": false,
     "start_time": "2023-01-24T05:27:21.326737",
     "status": "completed"
    },
    "tags": []
   },
   "outputs": [
    {
     "data": {
      "text/html": [
       "<div>\n",
       "<style scoped>\n",
       "    .dataframe tbody tr th:only-of-type {\n",
       "        vertical-align: middle;\n",
       "    }\n",
       "\n",
       "    .dataframe tbody tr th {\n",
       "        vertical-align: top;\n",
       "    }\n",
       "\n",
       "    .dataframe thead th {\n",
       "        text-align: right;\n",
       "    }\n",
       "</style>\n",
       "<table border=\"1\" class=\"dataframe\">\n",
       "  <thead>\n",
       "    <tr style=\"text-align: right;\">\n",
       "      <th>User-ID</th>\n",
       "      <th>254</th>\n",
       "      <th>2276</th>\n",
       "      <th>3363</th>\n",
       "      <th>4385</th>\n",
       "      <th>6251</th>\n",
       "      <th>6543</th>\n",
       "      <th>6575</th>\n",
       "      <th>7158</th>\n",
       "      <th>7346</th>\n",
       "      <th>8681</th>\n",
       "      <th>...</th>\n",
       "      <th>52199</th>\n",
       "      <th>52203</th>\n",
       "      <th>52584</th>\n",
       "      <th>52614</th>\n",
       "      <th>52853</th>\n",
       "      <th>52917</th>\n",
       "      <th>53174</th>\n",
       "      <th>54218</th>\n",
       "      <th>55187</th>\n",
       "      <th>55490</th>\n",
       "    </tr>\n",
       "    <tr>\n",
       "      <th>ISBN</th>\n",
       "      <th></th>\n",
       "      <th></th>\n",
       "      <th></th>\n",
       "      <th></th>\n",
       "      <th></th>\n",
       "      <th></th>\n",
       "      <th></th>\n",
       "      <th></th>\n",
       "      <th></th>\n",
       "      <th></th>\n",
       "      <th></th>\n",
       "      <th></th>\n",
       "      <th></th>\n",
       "      <th></th>\n",
       "      <th></th>\n",
       "      <th></th>\n",
       "      <th></th>\n",
       "      <th></th>\n",
       "      <th></th>\n",
       "      <th></th>\n",
       "      <th></th>\n",
       "    </tr>\n",
       "  </thead>\n",
       "  <tbody>\n",
       "    <tr>\n",
       "      <th>0060502258</th>\n",
       "      <td>NaN</td>\n",
       "      <td>NaN</td>\n",
       "      <td>0.0</td>\n",
       "      <td>NaN</td>\n",
       "      <td>NaN</td>\n",
       "      <td>NaN</td>\n",
       "      <td>8.0</td>\n",
       "      <td>NaN</td>\n",
       "      <td>NaN</td>\n",
       "      <td>NaN</td>\n",
       "      <td>...</td>\n",
       "      <td>NaN</td>\n",
       "      <td>NaN</td>\n",
       "      <td>NaN</td>\n",
       "      <td>NaN</td>\n",
       "      <td>NaN</td>\n",
       "      <td>NaN</td>\n",
       "      <td>0.0</td>\n",
       "      <td>0.0</td>\n",
       "      <td>NaN</td>\n",
       "      <td>NaN</td>\n",
       "    </tr>\n",
       "    <tr>\n",
       "      <th>0060928336</th>\n",
       "      <td>NaN</td>\n",
       "      <td>NaN</td>\n",
       "      <td>0.0</td>\n",
       "      <td>NaN</td>\n",
       "      <td>NaN</td>\n",
       "      <td>NaN</td>\n",
       "      <td>8.0</td>\n",
       "      <td>NaN</td>\n",
       "      <td>0.0</td>\n",
       "      <td>0.0</td>\n",
       "      <td>...</td>\n",
       "      <td>NaN</td>\n",
       "      <td>NaN</td>\n",
       "      <td>0.0</td>\n",
       "      <td>NaN</td>\n",
       "      <td>NaN</td>\n",
       "      <td>4.0</td>\n",
       "      <td>0.0</td>\n",
       "      <td>NaN</td>\n",
       "      <td>NaN</td>\n",
       "      <td>NaN</td>\n",
       "    </tr>\n",
       "    <tr>\n",
       "      <th>0060930535</th>\n",
       "      <td>0.0</td>\n",
       "      <td>NaN</td>\n",
       "      <td>NaN</td>\n",
       "      <td>NaN</td>\n",
       "      <td>0.0</td>\n",
       "      <td>NaN</td>\n",
       "      <td>NaN</td>\n",
       "      <td>NaN</td>\n",
       "      <td>0.0</td>\n",
       "      <td>NaN</td>\n",
       "      <td>...</td>\n",
       "      <td>NaN</td>\n",
       "      <td>NaN</td>\n",
       "      <td>0.0</td>\n",
       "      <td>NaN</td>\n",
       "      <td>NaN</td>\n",
       "      <td>NaN</td>\n",
       "      <td>NaN</td>\n",
       "      <td>NaN</td>\n",
       "      <td>NaN</td>\n",
       "      <td>NaN</td>\n",
       "    </tr>\n",
       "    <tr>\n",
       "      <th>0060934417</th>\n",
       "      <td>NaN</td>\n",
       "      <td>NaN</td>\n",
       "      <td>NaN</td>\n",
       "      <td>NaN</td>\n",
       "      <td>NaN</td>\n",
       "      <td>NaN</td>\n",
       "      <td>9.0</td>\n",
       "      <td>NaN</td>\n",
       "      <td>0.0</td>\n",
       "      <td>NaN</td>\n",
       "      <td>...</td>\n",
       "      <td>NaN</td>\n",
       "      <td>NaN</td>\n",
       "      <td>NaN</td>\n",
       "      <td>NaN</td>\n",
       "      <td>NaN</td>\n",
       "      <td>NaN</td>\n",
       "      <td>NaN</td>\n",
       "      <td>NaN</td>\n",
       "      <td>NaN</td>\n",
       "      <td>NaN</td>\n",
       "    </tr>\n",
       "    <tr>\n",
       "      <th>0060938455</th>\n",
       "      <td>NaN</td>\n",
       "      <td>NaN</td>\n",
       "      <td>NaN</td>\n",
       "      <td>NaN</td>\n",
       "      <td>0.0</td>\n",
       "      <td>NaN</td>\n",
       "      <td>0.0</td>\n",
       "      <td>NaN</td>\n",
       "      <td>NaN</td>\n",
       "      <td>NaN</td>\n",
       "      <td>...</td>\n",
       "      <td>NaN</td>\n",
       "      <td>NaN</td>\n",
       "      <td>NaN</td>\n",
       "      <td>NaN</td>\n",
       "      <td>NaN</td>\n",
       "      <td>NaN</td>\n",
       "      <td>NaN</td>\n",
       "      <td>0.0</td>\n",
       "      <td>NaN</td>\n",
       "      <td>NaN</td>\n",
       "    </tr>\n",
       "    <tr>\n",
       "      <th>...</th>\n",
       "      <td>...</td>\n",
       "      <td>...</td>\n",
       "      <td>...</td>\n",
       "      <td>...</td>\n",
       "      <td>...</td>\n",
       "      <td>...</td>\n",
       "      <td>...</td>\n",
       "      <td>...</td>\n",
       "      <td>...</td>\n",
       "      <td>...</td>\n",
       "      <td>...</td>\n",
       "      <td>...</td>\n",
       "      <td>...</td>\n",
       "      <td>...</td>\n",
       "      <td>...</td>\n",
       "      <td>...</td>\n",
       "      <td>...</td>\n",
       "      <td>...</td>\n",
       "      <td>...</td>\n",
       "      <td>...</td>\n",
       "      <td>...</td>\n",
       "    </tr>\n",
       "    <tr>\n",
       "      <th>0743418174</th>\n",
       "      <td>NaN</td>\n",
       "      <td>NaN</td>\n",
       "      <td>0.0</td>\n",
       "      <td>NaN</td>\n",
       "      <td>0.0</td>\n",
       "      <td>NaN</td>\n",
       "      <td>0.0</td>\n",
       "      <td>0.0</td>\n",
       "      <td>0.0</td>\n",
       "      <td>NaN</td>\n",
       "      <td>...</td>\n",
       "      <td>NaN</td>\n",
       "      <td>NaN</td>\n",
       "      <td>10.0</td>\n",
       "      <td>NaN</td>\n",
       "      <td>NaN</td>\n",
       "      <td>NaN</td>\n",
       "      <td>NaN</td>\n",
       "      <td>NaN</td>\n",
       "      <td>NaN</td>\n",
       "      <td>NaN</td>\n",
       "    </tr>\n",
       "    <tr>\n",
       "      <th>0786868716</th>\n",
       "      <td>NaN</td>\n",
       "      <td>NaN</td>\n",
       "      <td>NaN</td>\n",
       "      <td>0.0</td>\n",
       "      <td>0.0</td>\n",
       "      <td>NaN</td>\n",
       "      <td>NaN</td>\n",
       "      <td>NaN</td>\n",
       "      <td>7.0</td>\n",
       "      <td>NaN</td>\n",
       "      <td>...</td>\n",
       "      <td>NaN</td>\n",
       "      <td>NaN</td>\n",
       "      <td>NaN</td>\n",
       "      <td>NaN</td>\n",
       "      <td>NaN</td>\n",
       "      <td>NaN</td>\n",
       "      <td>NaN</td>\n",
       "      <td>NaN</td>\n",
       "      <td>NaN</td>\n",
       "      <td>NaN</td>\n",
       "    </tr>\n",
       "    <tr>\n",
       "      <th>0804106304</th>\n",
       "      <td>0.0</td>\n",
       "      <td>NaN</td>\n",
       "      <td>NaN</td>\n",
       "      <td>NaN</td>\n",
       "      <td>0.0</td>\n",
       "      <td>NaN</td>\n",
       "      <td>9.0</td>\n",
       "      <td>NaN</td>\n",
       "      <td>9.0</td>\n",
       "      <td>NaN</td>\n",
       "      <td>...</td>\n",
       "      <td>0.0</td>\n",
       "      <td>NaN</td>\n",
       "      <td>7.0</td>\n",
       "      <td>NaN</td>\n",
       "      <td>NaN</td>\n",
       "      <td>7.0</td>\n",
       "      <td>NaN</td>\n",
       "      <td>NaN</td>\n",
       "      <td>NaN</td>\n",
       "      <td>NaN</td>\n",
       "    </tr>\n",
       "    <tr>\n",
       "      <th>0971880107</th>\n",
       "      <td>NaN</td>\n",
       "      <td>NaN</td>\n",
       "      <td>0.0</td>\n",
       "      <td>NaN</td>\n",
       "      <td>0.0</td>\n",
       "      <td>0.0</td>\n",
       "      <td>NaN</td>\n",
       "      <td>0.0</td>\n",
       "      <td>NaN</td>\n",
       "      <td>0.0</td>\n",
       "      <td>...</td>\n",
       "      <td>NaN</td>\n",
       "      <td>NaN</td>\n",
       "      <td>NaN</td>\n",
       "      <td>NaN</td>\n",
       "      <td>NaN</td>\n",
       "      <td>0.0</td>\n",
       "      <td>0.0</td>\n",
       "      <td>NaN</td>\n",
       "      <td>6.0</td>\n",
       "      <td>NaN</td>\n",
       "    </tr>\n",
       "    <tr>\n",
       "      <th>1400034779</th>\n",
       "      <td>NaN</td>\n",
       "      <td>NaN</td>\n",
       "      <td>NaN</td>\n",
       "      <td>NaN</td>\n",
       "      <td>0.0</td>\n",
       "      <td>NaN</td>\n",
       "      <td>9.0</td>\n",
       "      <td>NaN</td>\n",
       "      <td>NaN</td>\n",
       "      <td>NaN</td>\n",
       "      <td>...</td>\n",
       "      <td>NaN</td>\n",
       "      <td>NaN</td>\n",
       "      <td>NaN</td>\n",
       "      <td>NaN</td>\n",
       "      <td>NaN</td>\n",
       "      <td>NaN</td>\n",
       "      <td>NaN</td>\n",
       "      <td>NaN</td>\n",
       "      <td>NaN</td>\n",
       "      <td>NaN</td>\n",
       "    </tr>\n",
       "  </tbody>\n",
       "</table>\n",
       "<p>81 rows × 100 columns</p>\n",
       "</div>"
      ],
      "text/plain": [
       "User-ID     254    2276   3363   4385   6251   6543   6575   7158   7346   \\\n",
       "ISBN                                                                        \n",
       "0060502258    NaN    NaN    0.0    NaN    NaN    NaN    8.0    NaN    NaN   \n",
       "0060928336    NaN    NaN    0.0    NaN    NaN    NaN    8.0    NaN    0.0   \n",
       "0060930535    0.0    NaN    NaN    NaN    0.0    NaN    NaN    NaN    0.0   \n",
       "0060934417    NaN    NaN    NaN    NaN    NaN    NaN    9.0    NaN    0.0   \n",
       "0060938455    NaN    NaN    NaN    NaN    0.0    NaN    0.0    NaN    NaN   \n",
       "...           ...    ...    ...    ...    ...    ...    ...    ...    ...   \n",
       "0743418174    NaN    NaN    0.0    NaN    0.0    NaN    0.0    0.0    0.0   \n",
       "0786868716    NaN    NaN    NaN    0.0    0.0    NaN    NaN    NaN    7.0   \n",
       "0804106304    0.0    NaN    NaN    NaN    0.0    NaN    9.0    NaN    9.0   \n",
       "0971880107    NaN    NaN    0.0    NaN    0.0    0.0    NaN    0.0    NaN   \n",
       "1400034779    NaN    NaN    NaN    NaN    0.0    NaN    9.0    NaN    NaN   \n",
       "\n",
       "User-ID     8681   ...  52199  52203  52584  52614  52853  52917  53174  \\\n",
       "ISBN               ...                                                    \n",
       "0060502258    NaN  ...    NaN    NaN    NaN    NaN    NaN    NaN    0.0   \n",
       "0060928336    0.0  ...    NaN    NaN    0.0    NaN    NaN    4.0    0.0   \n",
       "0060930535    NaN  ...    NaN    NaN    0.0    NaN    NaN    NaN    NaN   \n",
       "0060934417    NaN  ...    NaN    NaN    NaN    NaN    NaN    NaN    NaN   \n",
       "0060938455    NaN  ...    NaN    NaN    NaN    NaN    NaN    NaN    NaN   \n",
       "...           ...  ...    ...    ...    ...    ...    ...    ...    ...   \n",
       "0743418174    NaN  ...    NaN    NaN   10.0    NaN    NaN    NaN    NaN   \n",
       "0786868716    NaN  ...    NaN    NaN    NaN    NaN    NaN    NaN    NaN   \n",
       "0804106304    NaN  ...    0.0    NaN    7.0    NaN    NaN    7.0    NaN   \n",
       "0971880107    0.0  ...    NaN    NaN    NaN    NaN    NaN    0.0    0.0   \n",
       "1400034779    NaN  ...    NaN    NaN    NaN    NaN    NaN    NaN    NaN   \n",
       "\n",
       "User-ID     54218  55187  55490  \n",
       "ISBN                             \n",
       "0060502258    0.0    NaN    NaN  \n",
       "0060928336    NaN    NaN    NaN  \n",
       "0060930535    NaN    NaN    NaN  \n",
       "0060934417    NaN    NaN    NaN  \n",
       "0060938455    0.0    NaN    NaN  \n",
       "...           ...    ...    ...  \n",
       "0743418174    NaN    NaN    NaN  \n",
       "0786868716    NaN    NaN    NaN  \n",
       "0804106304    NaN    NaN    NaN  \n",
       "0971880107    NaN    6.0    NaN  \n",
       "1400034779    NaN    NaN    NaN  \n",
       "\n",
       "[81 rows x 100 columns]"
      ]
     },
     "execution_count": 23,
     "metadata": {},
     "output_type": "execute_result"
    }
   ],
   "source": [
    "piv_table.iloc[:100, :100]"
   ]
  },
  {
   "cell_type": "markdown",
   "id": "ace1aa12",
   "metadata": {
    "papermill": {
     "duration": 0.016557,
     "end_time": "2023-01-24T05:27:21.420359",
     "exception": false,
     "start_time": "2023-01-24T05:27:21.403802",
     "status": "completed"
    },
    "tags": []
   },
   "source": [
    "As you can see it is a very sparse table with most values as NaN. We will replace Nan to 0 to logically define that if  user A has given a rating of 0 we will not recommend that to similar users. This is true if user A has not read the book as well."
   ]
  },
  {
   "cell_type": "code",
   "execution_count": 24,
   "id": "0409c460",
   "metadata": {
    "execution": {
     "iopub.execute_input": "2023-01-24T05:27:21.456207Z",
     "iopub.status.busy": "2023-01-24T05:27:21.455772Z",
     "iopub.status.idle": "2023-01-24T05:27:21.461328Z",
     "shell.execute_reply": "2023-01-24T05:27:21.460194Z"
    },
    "papermill": {
     "duration": 0.026352,
     "end_time": "2023-01-24T05:27:21.463611",
     "exception": false,
     "start_time": "2023-01-24T05:27:21.437259",
     "status": "completed"
    },
    "tags": []
   },
   "outputs": [],
   "source": [
    "piv_table = piv_table.fillna(0)"
   ]
  },
  {
   "cell_type": "code",
   "execution_count": 25,
   "id": "3b89d621",
   "metadata": {
    "execution": {
     "iopub.execute_input": "2023-01-24T05:27:21.499511Z",
     "iopub.status.busy": "2023-01-24T05:27:21.499112Z",
     "iopub.status.idle": "2023-01-24T05:27:21.509481Z",
     "shell.execute_reply": "2023-01-24T05:27:21.508381Z"
    },
    "papermill": {
     "duration": 0.031065,
     "end_time": "2023-01-24T05:27:21.511636",
     "exception": false,
     "start_time": "2023-01-24T05:27:21.480571",
     "status": "completed"
    },
    "tags": []
   },
   "outputs": [
    {
     "data": {
      "text/plain": [
       "0"
      ]
     },
     "execution_count": 25,
     "metadata": {},
     "output_type": "execute_result"
    }
   ],
   "source": [
    "pd.DataFrame(piv_table).isnull().sum().sum()"
   ]
  },
  {
   "cell_type": "code",
   "execution_count": 26,
   "id": "0166f0da",
   "metadata": {
    "execution": {
     "iopub.execute_input": "2023-01-24T05:27:21.547240Z",
     "iopub.status.busy": "2023-01-24T05:27:21.546808Z",
     "iopub.status.idle": "2023-01-24T05:27:21.738708Z",
     "shell.execute_reply": "2023-01-24T05:27:21.737528Z"
    },
    "papermill": {
     "duration": 0.21266,
     "end_time": "2023-01-24T05:27:21.741162",
     "exception": false,
     "start_time": "2023-01-24T05:27:21.528502",
     "status": "completed"
    },
    "tags": []
   },
   "outputs": [
    {
     "data": {
      "text/plain": [
       "NearestNeighbors(algorithm='brute')"
      ]
     },
     "execution_count": 26,
     "metadata": {},
     "output_type": "execute_result"
    }
   ],
   "source": [
    "from sklearn.neighbors import NearestNeighbors\n",
    "model = NearestNeighbors(algorithm='brute')\n",
    "model.fit(piv_table)"
   ]
  },
  {
   "cell_type": "markdown",
   "id": "6d051a45",
   "metadata": {
    "papermill": {
     "duration": 0.016892,
     "end_time": "2023-01-24T05:27:21.775100",
     "exception": false,
     "start_time": "2023-01-24T05:27:21.758208",
     "status": "completed"
    },
    "tags": []
   },
   "source": [
    "Let's list a few books at random and see which one wwe know. "
   ]
  },
  {
   "cell_type": "code",
   "execution_count": 27,
   "id": "69ef1521",
   "metadata": {
    "execution": {
     "iopub.execute_input": "2023-01-24T05:27:21.817164Z",
     "iopub.status.busy": "2023-01-24T05:27:21.816330Z",
     "iopub.status.idle": "2023-01-24T05:27:21.836216Z",
     "shell.execute_reply": "2023-01-24T05:27:21.835323Z"
    },
    "papermill": {
     "duration": 0.045031,
     "end_time": "2023-01-24T05:27:21.838340",
     "exception": false,
     "start_time": "2023-01-24T05:27:21.793309",
     "status": "completed"
    },
    "tags": []
   },
   "outputs": [
    {
     "data": {
      "text/html": [
       "<div>\n",
       "<style scoped>\n",
       "    .dataframe tbody tr th:only-of-type {\n",
       "        vertical-align: middle;\n",
       "    }\n",
       "\n",
       "    .dataframe tbody tr th {\n",
       "        vertical-align: top;\n",
       "    }\n",
       "\n",
       "    .dataframe thead th {\n",
       "        text-align: right;\n",
       "    }\n",
       "</style>\n",
       "<table border=\"1\" class=\"dataframe\">\n",
       "  <thead>\n",
       "    <tr style=\"text-align: right;\">\n",
       "      <th></th>\n",
       "      <th>User-ID</th>\n",
       "      <th>ISBN</th>\n",
       "      <th>Book-Rating</th>\n",
       "      <th>Book-Title</th>\n",
       "      <th>Book-Author</th>\n",
       "      <th>Year-Of-Publication</th>\n",
       "      <th>Publisher</th>\n",
       "    </tr>\n",
       "  </thead>\n",
       "  <tbody>\n",
       "    <tr>\n",
       "      <th>44508</th>\n",
       "      <td>37712</td>\n",
       "      <td>0060934417</td>\n",
       "      <td>10</td>\n",
       "      <td>Bel Canto: A Novel</td>\n",
       "      <td>Ann Patchett</td>\n",
       "      <td>2002</td>\n",
       "      <td>Perennial</td>\n",
       "    </tr>\n",
       "    <tr>\n",
       "      <th>39899</th>\n",
       "      <td>209516</td>\n",
       "      <td>0060976845</td>\n",
       "      <td>9</td>\n",
       "      <td>Little Altars Everywhere: A Novel</td>\n",
       "      <td>Rebecca Wells</td>\n",
       "      <td>1996</td>\n",
       "      <td>Perennial</td>\n",
       "    </tr>\n",
       "    <tr>\n",
       "      <th>25027</th>\n",
       "      <td>91832</td>\n",
       "      <td>0440225701</td>\n",
       "      <td>0</td>\n",
       "      <td>The Street Lawyer</td>\n",
       "      <td>JOHN GRISHAM</td>\n",
       "      <td>1999</td>\n",
       "      <td>Dell</td>\n",
       "    </tr>\n",
       "    <tr>\n",
       "      <th>114889</th>\n",
       "      <td>102702</td>\n",
       "      <td>0446606812</td>\n",
       "      <td>8</td>\n",
       "      <td>Message in a Bottle</td>\n",
       "      <td>Nicholas Sparks</td>\n",
       "      <td>1999</td>\n",
       "      <td>Warner Vision</td>\n",
       "    </tr>\n",
       "    <tr>\n",
       "      <th>15259</th>\n",
       "      <td>40889</td>\n",
       "      <td>0440220602</td>\n",
       "      <td>8</td>\n",
       "      <td>The Chamber</td>\n",
       "      <td>John Grisham</td>\n",
       "      <td>1995</td>\n",
       "      <td>Dell Publishing Company</td>\n",
       "    </tr>\n",
       "    <tr>\n",
       "      <th>95831</th>\n",
       "      <td>140000</td>\n",
       "      <td>0375725784</td>\n",
       "      <td>8</td>\n",
       "      <td>A Heartbreaking Work of Staggering Genius</td>\n",
       "      <td>Dave Eggers</td>\n",
       "      <td>2001</td>\n",
       "      <td>Vintage Books USA</td>\n",
       "    </tr>\n",
       "    <tr>\n",
       "      <th>47158</th>\n",
       "      <td>170184</td>\n",
       "      <td>0316096199</td>\n",
       "      <td>7</td>\n",
       "      <td>Lucky : A Memoir</td>\n",
       "      <td>Alice Sebold</td>\n",
       "      <td>2002</td>\n",
       "      <td>Back Bay Books</td>\n",
       "    </tr>\n",
       "    <tr>\n",
       "      <th>65754</th>\n",
       "      <td>110973</td>\n",
       "      <td>0671027360</td>\n",
       "      <td>7</td>\n",
       "      <td>Angels &amp;amp; Demons</td>\n",
       "      <td>Dan Brown</td>\n",
       "      <td>2001</td>\n",
       "      <td>Pocket Star</td>\n",
       "    </tr>\n",
       "    <tr>\n",
       "      <th>40296</th>\n",
       "      <td>35857</td>\n",
       "      <td>0156027321</td>\n",
       "      <td>0</td>\n",
       "      <td>Life of Pi</td>\n",
       "      <td>Yann Martel</td>\n",
       "      <td>2003</td>\n",
       "      <td>Harvest Books</td>\n",
       "    </tr>\n",
       "  </tbody>\n",
       "</table>\n",
       "</div>"
      ],
      "text/plain": [
       "        User-ID        ISBN  Book-Rating  \\\n",
       "44508     37712  0060934417           10   \n",
       "39899    209516  0060976845            9   \n",
       "25027     91832  0440225701            0   \n",
       "114889   102702  0446606812            8   \n",
       "15259     40889  0440220602            8   \n",
       "95831    140000  0375725784            8   \n",
       "47158    170184  0316096199            7   \n",
       "65754    110973  0671027360            7   \n",
       "40296     35857  0156027321            0   \n",
       "\n",
       "                                       Book-Title      Book-Author  \\\n",
       "44508                          Bel Canto: A Novel     Ann Patchett   \n",
       "39899           Little Altars Everywhere: A Novel    Rebecca Wells   \n",
       "25027                           The Street Lawyer     JOHN GRISHAM   \n",
       "114889                        Message in a Bottle  Nicholas Sparks   \n",
       "15259                                 The Chamber     John Grisham   \n",
       "95831   A Heartbreaking Work of Staggering Genius      Dave Eggers   \n",
       "47158                            Lucky : A Memoir     Alice Sebold   \n",
       "65754                         Angels &amp; Demons        Dan Brown   \n",
       "40296                                  Life of Pi      Yann Martel   \n",
       "\n",
       "       Year-Of-Publication                Publisher  \n",
       "44508                 2002                Perennial  \n",
       "39899                 1996                Perennial  \n",
       "25027                 1999                     Dell  \n",
       "114889                1999            Warner Vision  \n",
       "15259                 1995  Dell Publishing Company  \n",
       "95831                 2001        Vintage Books USA  \n",
       "47158                 2002           Back Bay Books  \n",
       "65754                 2001              Pocket Star  \n",
       "40296                 2003            Harvest Books  "
      ]
     },
     "execution_count": 27,
     "metadata": {},
     "output_type": "execute_result"
    }
   ],
   "source": [
    "ratings.sample(frac = 0.001)"
   ]
  },
  {
   "cell_type": "markdown",
   "id": "1567666c",
   "metadata": {
    "papermill": {
     "duration": 0.023426,
     "end_time": "2023-01-24T05:27:21.886076",
     "exception": false,
     "start_time": "2023-01-24T05:27:21.862650",
     "status": "completed"
    },
    "tags": []
   },
   "source": []
  },
  {
   "cell_type": "markdown",
   "id": "fb404a02",
   "metadata": {
    "papermill": {
     "duration": 0.01717,
     "end_time": "2023-01-24T05:27:21.920694",
     "exception": false,
     "start_time": "2023-01-24T05:27:21.903524",
     "status": "completed"
    },
    "tags": []
   },
   "source": [
    "I had to sample multiple times to get a book that I have read. 'The Fellowship of the Ring' with ISBN 0618002227 at index 196979"
   ]
  },
  {
   "cell_type": "markdown",
   "id": "83c9366b",
   "metadata": {
    "papermill": {
     "duration": 0.01717,
     "end_time": "2023-01-24T05:27:21.958200",
     "exception": false,
     "start_time": "2023-01-24T05:27:21.941030",
     "status": "completed"
    },
    "tags": []
   },
   "source": []
  },
  {
   "cell_type": "code",
   "execution_count": 28,
   "id": "9af8754e",
   "metadata": {
    "execution": {
     "iopub.execute_input": "2023-01-24T05:27:21.995114Z",
     "iopub.status.busy": "2023-01-24T05:27:21.993891Z",
     "iopub.status.idle": "2023-01-24T05:27:22.010417Z",
     "shell.execute_reply": "2023-01-24T05:27:22.009000Z"
    },
    "papermill": {
     "duration": 0.037436,
     "end_time": "2023-01-24T05:27:22.012919",
     "exception": false,
     "start_time": "2023-01-24T05:27:21.975483",
     "status": "completed"
    },
    "tags": []
   },
   "outputs": [
    {
     "data": {
      "text/html": [
       "<div>\n",
       "<style scoped>\n",
       "    .dataframe tbody tr th:only-of-type {\n",
       "        vertical-align: middle;\n",
       "    }\n",
       "\n",
       "    .dataframe tbody tr th {\n",
       "        vertical-align: top;\n",
       "    }\n",
       "\n",
       "    .dataframe thead th {\n",
       "        text-align: right;\n",
       "    }\n",
       "</style>\n",
       "<table border=\"1\" class=\"dataframe\">\n",
       "  <thead>\n",
       "    <tr style=\"text-align: right;\">\n",
       "      <th>User-ID</th>\n",
       "      <th>254</th>\n",
       "      <th>2276</th>\n",
       "      <th>3363</th>\n",
       "      <th>4385</th>\n",
       "      <th>6251</th>\n",
       "      <th>6543</th>\n",
       "      <th>6575</th>\n",
       "      <th>7158</th>\n",
       "      <th>7346</th>\n",
       "      <th>8681</th>\n",
       "      <th>...</th>\n",
       "      <th>270713</th>\n",
       "      <th>271284</th>\n",
       "      <th>273979</th>\n",
       "      <th>274004</th>\n",
       "      <th>274061</th>\n",
       "      <th>274301</th>\n",
       "      <th>274308</th>\n",
       "      <th>275970</th>\n",
       "      <th>277427</th>\n",
       "      <th>278418</th>\n",
       "    </tr>\n",
       "    <tr>\n",
       "      <th>ISBN</th>\n",
       "      <th></th>\n",
       "      <th></th>\n",
       "      <th></th>\n",
       "      <th></th>\n",
       "      <th></th>\n",
       "      <th></th>\n",
       "      <th></th>\n",
       "      <th></th>\n",
       "      <th></th>\n",
       "      <th></th>\n",
       "      <th></th>\n",
       "      <th></th>\n",
       "      <th></th>\n",
       "      <th></th>\n",
       "      <th></th>\n",
       "      <th></th>\n",
       "      <th></th>\n",
       "      <th></th>\n",
       "      <th></th>\n",
       "      <th></th>\n",
       "      <th></th>\n",
       "    </tr>\n",
       "  </thead>\n",
       "  <tbody>\n",
       "  </tbody>\n",
       "</table>\n",
       "<p>0 rows × 539 columns</p>\n",
       "</div>"
      ],
      "text/plain": [
       "Empty DataFrame\n",
       "Columns: [254, 2276, 3363, 4385, 6251, 6543, 6575, 7158, 7346, 8681, 8936, 10819, 11601, 11676, 11993, 12538, 12982, 13273, 13552, 14422, 14521, 15408, 15418, 16634, 16795, 16916, 16966, 17950, 20115, 21014, 21252, 23288, 23768, 23872, 23902, 24921, 25409, 25981, 26516, 26535, 26544, 27617, 28204, 28523, 28591, 29259, 29855, 30276, 30511, 30533, 30711, 30972, 31315, 31556, 31826, 32195, 32440, 32721, 32773, 33974, 35050, 35857, 35859, 36606, 36609, 36836, 37567, 37712, 37950, 38023, 38273, 38781, 39281, 39467, 39616, 39646, 40889, 40943, 41841, 43246, 43842, 44728, 46398, 48494, 49109, 49889, 50225, 51386, 51450, 51883, 52199, 52203, 52584, 52614, 52853, 52917, 53174, 54218, 55187, 55490, ...]\n",
       "Index: []\n",
       "\n",
       "[0 rows x 539 columns]"
      ]
     },
     "execution_count": 28,
     "metadata": {},
     "output_type": "execute_result"
    }
   ],
   "source": [
    "piv_table[piv_table.index == '0618002227']"
   ]
  },
  {
   "cell_type": "code",
   "execution_count": 29,
   "id": "532697f8",
   "metadata": {
    "execution": {
     "iopub.execute_input": "2023-01-24T05:27:22.049477Z",
     "iopub.status.busy": "2023-01-24T05:27:22.049063Z",
     "iopub.status.idle": "2023-01-24T05:27:22.055103Z",
     "shell.execute_reply": "2023-01-24T05:27:22.053741Z"
    },
    "papermill": {
     "duration": 0.027244,
     "end_time": "2023-01-24T05:27:22.057600",
     "exception": false,
     "start_time": "2023-01-24T05:27:22.030356",
     "status": "completed"
    },
    "tags": []
   },
   "outputs": [],
   "source": [
    "test_book = piv_table[piv_table.index == '0618002227'].values"
   ]
  },
  {
   "cell_type": "code",
   "execution_count": 30,
   "id": "a47b7156",
   "metadata": {
    "execution": {
     "iopub.execute_input": "2023-01-24T05:27:22.095393Z",
     "iopub.status.busy": "2023-01-24T05:27:22.094994Z",
     "iopub.status.idle": "2023-01-24T05:27:22.100910Z",
     "shell.execute_reply": "2023-01-24T05:27:22.100114Z"
    },
    "papermill": {
     "duration": 0.027244,
     "end_time": "2023-01-24T05:27:22.102937",
     "exception": false,
     "start_time": "2023-01-24T05:27:22.075693",
     "status": "completed"
    },
    "tags": []
   },
   "outputs": [
    {
     "data": {
      "text/plain": [
       "array([], shape=(0, 539), dtype=float64)"
      ]
     },
     "execution_count": 30,
     "metadata": {},
     "output_type": "execute_result"
    }
   ],
   "source": [
    "test_book"
   ]
  },
  {
   "cell_type": "markdown",
   "id": "4baebadf",
   "metadata": {
    "papermill": {
     "duration": 0.017088,
     "end_time": "2023-01-24T05:27:22.137524",
     "exception": false,
     "start_time": "2023-01-24T05:27:22.120436",
     "status": "completed"
    },
    "tags": []
   },
   "source": [
    "From the doc we are getting distances and the "
   ]
  },
  {
   "cell_type": "code",
   "execution_count": 31,
   "id": "3951a449",
   "metadata": {
    "execution": {
     "iopub.execute_input": "2023-01-24T05:27:22.175386Z",
     "iopub.status.busy": "2023-01-24T05:27:22.174285Z",
     "iopub.status.idle": "2023-01-24T05:27:24.779038Z",
     "shell.execute_reply": "2023-01-24T05:27:24.777892Z"
    },
    "papermill": {
     "duration": 2.626947,
     "end_time": "2023-01-24T05:27:24.781743",
     "exception": false,
     "start_time": "2023-01-24T05:27:22.154796",
     "status": "completed"
    },
    "tags": []
   },
   "outputs": [
    {
     "name": "stderr",
     "output_type": "stream",
     "text": [
      "/opt/conda/lib/python3.7/site-packages/IPython/core/interactiveshell.py:3552: DtypeWarning: Columns (3) have mixed types.Specify dtype option on import or set low_memory=False.\n",
      "  exec(code_obj, self.user_global_ns, self.user_ns)\n"
     ]
    }
   ],
   "source": [
    "books = pd.read_csv(\"../input/book-recommendation-dataset/Books.csv\")\n",
    "users = pd.read_csv(\"../input/book-recommendation-dataset/Users.csv\")\n",
    "ratings = pd.read_csv(\"../input/book-recommendation-dataset/Ratings.csv\")"
   ]
  },
  {
   "cell_type": "code",
   "execution_count": 32,
   "id": "6517c9fd",
   "metadata": {
    "execution": {
     "iopub.execute_input": "2023-01-24T05:27:24.824445Z",
     "iopub.status.busy": "2023-01-24T05:27:24.823631Z",
     "iopub.status.idle": "2023-01-24T05:27:25.587203Z",
     "shell.execute_reply": "2023-01-24T05:27:25.586021Z"
    },
    "papermill": {
     "duration": 0.790279,
     "end_time": "2023-01-24T05:27:25.589723",
     "exception": false,
     "start_time": "2023-01-24T05:27:24.799444",
     "status": "completed"
    },
    "tags": []
   },
   "outputs": [
    {
     "data": {
      "text/html": [
       "<div>\n",
       "<style scoped>\n",
       "    .dataframe tbody tr th:only-of-type {\n",
       "        vertical-align: middle;\n",
       "    }\n",
       "\n",
       "    .dataframe tbody tr th {\n",
       "        vertical-align: top;\n",
       "    }\n",
       "\n",
       "    .dataframe thead th {\n",
       "        text-align: right;\n",
       "    }\n",
       "</style>\n",
       "<table border=\"1\" class=\"dataframe\">\n",
       "  <thead>\n",
       "    <tr style=\"text-align: right;\">\n",
       "      <th></th>\n",
       "      <th>ISBN</th>\n",
       "      <th>Book-Title</th>\n",
       "      <th>Book-Author</th>\n",
       "      <th>Year-Of-Publication</th>\n",
       "      <th>Publisher</th>\n",
       "      <th>Image-URL-S</th>\n",
       "      <th>Image-URL-M</th>\n",
       "      <th>Image-URL-L</th>\n",
       "      <th>User-ID</th>\n",
       "      <th>Book-Rating</th>\n",
       "    </tr>\n",
       "  </thead>\n",
       "  <tbody>\n",
       "    <tr>\n",
       "      <th>0</th>\n",
       "      <td>0195153448</td>\n",
       "      <td>Classical Mythology</td>\n",
       "      <td>Mark P. O. Morford</td>\n",
       "      <td>2002</td>\n",
       "      <td>Oxford University Press</td>\n",
       "      <td>http://images.amazon.com/images/P/0195153448.0...</td>\n",
       "      <td>http://images.amazon.com/images/P/0195153448.0...</td>\n",
       "      <td>http://images.amazon.com/images/P/0195153448.0...</td>\n",
       "      <td>2</td>\n",
       "      <td>0</td>\n",
       "    </tr>\n",
       "    <tr>\n",
       "      <th>1</th>\n",
       "      <td>0002005018</td>\n",
       "      <td>Clara Callan</td>\n",
       "      <td>Richard Bruce Wright</td>\n",
       "      <td>2001</td>\n",
       "      <td>HarperFlamingo Canada</td>\n",
       "      <td>http://images.amazon.com/images/P/0002005018.0...</td>\n",
       "      <td>http://images.amazon.com/images/P/0002005018.0...</td>\n",
       "      <td>http://images.amazon.com/images/P/0002005018.0...</td>\n",
       "      <td>8</td>\n",
       "      <td>5</td>\n",
       "    </tr>\n",
       "    <tr>\n",
       "      <th>2</th>\n",
       "      <td>0002005018</td>\n",
       "      <td>Clara Callan</td>\n",
       "      <td>Richard Bruce Wright</td>\n",
       "      <td>2001</td>\n",
       "      <td>HarperFlamingo Canada</td>\n",
       "      <td>http://images.amazon.com/images/P/0002005018.0...</td>\n",
       "      <td>http://images.amazon.com/images/P/0002005018.0...</td>\n",
       "      <td>http://images.amazon.com/images/P/0002005018.0...</td>\n",
       "      <td>11400</td>\n",
       "      <td>0</td>\n",
       "    </tr>\n",
       "    <tr>\n",
       "      <th>3</th>\n",
       "      <td>0002005018</td>\n",
       "      <td>Clara Callan</td>\n",
       "      <td>Richard Bruce Wright</td>\n",
       "      <td>2001</td>\n",
       "      <td>HarperFlamingo Canada</td>\n",
       "      <td>http://images.amazon.com/images/P/0002005018.0...</td>\n",
       "      <td>http://images.amazon.com/images/P/0002005018.0...</td>\n",
       "      <td>http://images.amazon.com/images/P/0002005018.0...</td>\n",
       "      <td>11676</td>\n",
       "      <td>8</td>\n",
       "    </tr>\n",
       "    <tr>\n",
       "      <th>4</th>\n",
       "      <td>0002005018</td>\n",
       "      <td>Clara Callan</td>\n",
       "      <td>Richard Bruce Wright</td>\n",
       "      <td>2001</td>\n",
       "      <td>HarperFlamingo Canada</td>\n",
       "      <td>http://images.amazon.com/images/P/0002005018.0...</td>\n",
       "      <td>http://images.amazon.com/images/P/0002005018.0...</td>\n",
       "      <td>http://images.amazon.com/images/P/0002005018.0...</td>\n",
       "      <td>41385</td>\n",
       "      <td>0</td>\n",
       "    </tr>\n",
       "    <tr>\n",
       "      <th>5</th>\n",
       "      <td>0002005018</td>\n",
       "      <td>Clara Callan</td>\n",
       "      <td>Richard Bruce Wright</td>\n",
       "      <td>2001</td>\n",
       "      <td>HarperFlamingo Canada</td>\n",
       "      <td>http://images.amazon.com/images/P/0002005018.0...</td>\n",
       "      <td>http://images.amazon.com/images/P/0002005018.0...</td>\n",
       "      <td>http://images.amazon.com/images/P/0002005018.0...</td>\n",
       "      <td>67544</td>\n",
       "      <td>8</td>\n",
       "    </tr>\n",
       "    <tr>\n",
       "      <th>6</th>\n",
       "      <td>0002005018</td>\n",
       "      <td>Clara Callan</td>\n",
       "      <td>Richard Bruce Wright</td>\n",
       "      <td>2001</td>\n",
       "      <td>HarperFlamingo Canada</td>\n",
       "      <td>http://images.amazon.com/images/P/0002005018.0...</td>\n",
       "      <td>http://images.amazon.com/images/P/0002005018.0...</td>\n",
       "      <td>http://images.amazon.com/images/P/0002005018.0...</td>\n",
       "      <td>85526</td>\n",
       "      <td>0</td>\n",
       "    </tr>\n",
       "    <tr>\n",
       "      <th>7</th>\n",
       "      <td>0002005018</td>\n",
       "      <td>Clara Callan</td>\n",
       "      <td>Richard Bruce Wright</td>\n",
       "      <td>2001</td>\n",
       "      <td>HarperFlamingo Canada</td>\n",
       "      <td>http://images.amazon.com/images/P/0002005018.0...</td>\n",
       "      <td>http://images.amazon.com/images/P/0002005018.0...</td>\n",
       "      <td>http://images.amazon.com/images/P/0002005018.0...</td>\n",
       "      <td>96054</td>\n",
       "      <td>0</td>\n",
       "    </tr>\n",
       "    <tr>\n",
       "      <th>8</th>\n",
       "      <td>0002005018</td>\n",
       "      <td>Clara Callan</td>\n",
       "      <td>Richard Bruce Wright</td>\n",
       "      <td>2001</td>\n",
       "      <td>HarperFlamingo Canada</td>\n",
       "      <td>http://images.amazon.com/images/P/0002005018.0...</td>\n",
       "      <td>http://images.amazon.com/images/P/0002005018.0...</td>\n",
       "      <td>http://images.amazon.com/images/P/0002005018.0...</td>\n",
       "      <td>116866</td>\n",
       "      <td>9</td>\n",
       "    </tr>\n",
       "    <tr>\n",
       "      <th>9</th>\n",
       "      <td>0002005018</td>\n",
       "      <td>Clara Callan</td>\n",
       "      <td>Richard Bruce Wright</td>\n",
       "      <td>2001</td>\n",
       "      <td>HarperFlamingo Canada</td>\n",
       "      <td>http://images.amazon.com/images/P/0002005018.0...</td>\n",
       "      <td>http://images.amazon.com/images/P/0002005018.0...</td>\n",
       "      <td>http://images.amazon.com/images/P/0002005018.0...</td>\n",
       "      <td>123629</td>\n",
       "      <td>9</td>\n",
       "    </tr>\n",
       "  </tbody>\n",
       "</table>\n",
       "</div>"
      ],
      "text/plain": [
       "         ISBN           Book-Title           Book-Author Year-Of-Publication  \\\n",
       "0  0195153448  Classical Mythology    Mark P. O. Morford                2002   \n",
       "1  0002005018         Clara Callan  Richard Bruce Wright                2001   \n",
       "2  0002005018         Clara Callan  Richard Bruce Wright                2001   \n",
       "3  0002005018         Clara Callan  Richard Bruce Wright                2001   \n",
       "4  0002005018         Clara Callan  Richard Bruce Wright                2001   \n",
       "5  0002005018         Clara Callan  Richard Bruce Wright                2001   \n",
       "6  0002005018         Clara Callan  Richard Bruce Wright                2001   \n",
       "7  0002005018         Clara Callan  Richard Bruce Wright                2001   \n",
       "8  0002005018         Clara Callan  Richard Bruce Wright                2001   \n",
       "9  0002005018         Clara Callan  Richard Bruce Wright                2001   \n",
       "\n",
       "                 Publisher                                        Image-URL-S  \\\n",
       "0  Oxford University Press  http://images.amazon.com/images/P/0195153448.0...   \n",
       "1    HarperFlamingo Canada  http://images.amazon.com/images/P/0002005018.0...   \n",
       "2    HarperFlamingo Canada  http://images.amazon.com/images/P/0002005018.0...   \n",
       "3    HarperFlamingo Canada  http://images.amazon.com/images/P/0002005018.0...   \n",
       "4    HarperFlamingo Canada  http://images.amazon.com/images/P/0002005018.0...   \n",
       "5    HarperFlamingo Canada  http://images.amazon.com/images/P/0002005018.0...   \n",
       "6    HarperFlamingo Canada  http://images.amazon.com/images/P/0002005018.0...   \n",
       "7    HarperFlamingo Canada  http://images.amazon.com/images/P/0002005018.0...   \n",
       "8    HarperFlamingo Canada  http://images.amazon.com/images/P/0002005018.0...   \n",
       "9    HarperFlamingo Canada  http://images.amazon.com/images/P/0002005018.0...   \n",
       "\n",
       "                                         Image-URL-M  \\\n",
       "0  http://images.amazon.com/images/P/0195153448.0...   \n",
       "1  http://images.amazon.com/images/P/0002005018.0...   \n",
       "2  http://images.amazon.com/images/P/0002005018.0...   \n",
       "3  http://images.amazon.com/images/P/0002005018.0...   \n",
       "4  http://images.amazon.com/images/P/0002005018.0...   \n",
       "5  http://images.amazon.com/images/P/0002005018.0...   \n",
       "6  http://images.amazon.com/images/P/0002005018.0...   \n",
       "7  http://images.amazon.com/images/P/0002005018.0...   \n",
       "8  http://images.amazon.com/images/P/0002005018.0...   \n",
       "9  http://images.amazon.com/images/P/0002005018.0...   \n",
       "\n",
       "                                         Image-URL-L  User-ID  Book-Rating  \n",
       "0  http://images.amazon.com/images/P/0195153448.0...        2            0  \n",
       "1  http://images.amazon.com/images/P/0002005018.0...        8            5  \n",
       "2  http://images.amazon.com/images/P/0002005018.0...    11400            0  \n",
       "3  http://images.amazon.com/images/P/0002005018.0...    11676            8  \n",
       "4  http://images.amazon.com/images/P/0002005018.0...    41385            0  \n",
       "5  http://images.amazon.com/images/P/0002005018.0...    67544            8  \n",
       "6  http://images.amazon.com/images/P/0002005018.0...    85526            0  \n",
       "7  http://images.amazon.com/images/P/0002005018.0...    96054            0  \n",
       "8  http://images.amazon.com/images/P/0002005018.0...   116866            9  \n",
       "9  http://images.amazon.com/images/P/0002005018.0...   123629            9  "
      ]
     },
     "execution_count": 32,
     "metadata": {},
     "output_type": "execute_result"
    }
   ],
   "source": [
    "new_df=books.merge(ratings,on='ISBN')\n",
    "new_df.head(10)"
   ]
  },
  {
   "cell_type": "code",
   "execution_count": 33,
   "id": "c313c286",
   "metadata": {
    "execution": {
     "iopub.execute_input": "2023-01-24T05:27:25.628596Z",
     "iopub.status.busy": "2023-01-24T05:27:25.627800Z",
     "iopub.status.idle": "2023-01-24T05:27:25.634501Z",
     "shell.execute_reply": "2023-01-24T05:27:25.633675Z"
    },
    "papermill": {
     "duration": 0.028623,
     "end_time": "2023-01-24T05:27:25.636677",
     "exception": false,
     "start_time": "2023-01-24T05:27:25.608054",
     "status": "completed"
    },
    "tags": []
   },
   "outputs": [
    {
     "data": {
      "text/plain": [
       "(1031136, 10)"
      ]
     },
     "execution_count": 33,
     "metadata": {},
     "output_type": "execute_result"
    }
   ],
   "source": [
    "new_df.shape"
   ]
  },
  {
   "cell_type": "code",
   "execution_count": 34,
   "id": "7f5a5fc6",
   "metadata": {
    "execution": {
     "iopub.execute_input": "2023-01-24T05:27:25.675998Z",
     "iopub.status.busy": "2023-01-24T05:27:25.675178Z",
     "iopub.status.idle": "2023-01-24T05:27:26.847748Z",
     "shell.execute_reply": "2023-01-24T05:27:26.846621Z"
    },
    "papermill": {
     "duration": 1.195689,
     "end_time": "2023-01-24T05:27:26.850257",
     "exception": false,
     "start_time": "2023-01-24T05:27:25.654568",
     "status": "completed"
    },
    "tags": []
   },
   "outputs": [
    {
     "data": {
      "text/html": [
       "<div>\n",
       "<style scoped>\n",
       "    .dataframe tbody tr th:only-of-type {\n",
       "        vertical-align: middle;\n",
       "    }\n",
       "\n",
       "    .dataframe tbody tr th {\n",
       "        vertical-align: top;\n",
       "    }\n",
       "\n",
       "    .dataframe thead th {\n",
       "        text-align: right;\n",
       "    }\n",
       "</style>\n",
       "<table border=\"1\" class=\"dataframe\">\n",
       "  <thead>\n",
       "    <tr style=\"text-align: right;\">\n",
       "      <th></th>\n",
       "      <th>Book-Title</th>\n",
       "      <th>Num_of_ratings</th>\n",
       "    </tr>\n",
       "  </thead>\n",
       "  <tbody>\n",
       "    <tr>\n",
       "      <th>0</th>\n",
       "      <td>A Light in the Storm: The Civil War Diary of ...</td>\n",
       "      <td>4</td>\n",
       "    </tr>\n",
       "    <tr>\n",
       "      <th>1</th>\n",
       "      <td>Always Have Popsicles</td>\n",
       "      <td>1</td>\n",
       "    </tr>\n",
       "    <tr>\n",
       "      <th>2</th>\n",
       "      <td>Apple Magic (The Collector's series)</td>\n",
       "      <td>1</td>\n",
       "    </tr>\n",
       "    <tr>\n",
       "      <th>3</th>\n",
       "      <td>Ask Lily (Young Women of Faith: Lily Series, ...</td>\n",
       "      <td>1</td>\n",
       "    </tr>\n",
       "    <tr>\n",
       "      <th>4</th>\n",
       "      <td>Beyond IBM: Leadership Marketing and Finance ...</td>\n",
       "      <td>1</td>\n",
       "    </tr>\n",
       "    <tr>\n",
       "      <th>5</th>\n",
       "      <td>Clifford Visita El Hospital (Clifford El Gran...</td>\n",
       "      <td>1</td>\n",
       "    </tr>\n",
       "    <tr>\n",
       "      <th>6</th>\n",
       "      <td>Dark Justice</td>\n",
       "      <td>1</td>\n",
       "    </tr>\n",
       "    <tr>\n",
       "      <th>7</th>\n",
       "      <td>Deceived</td>\n",
       "      <td>2</td>\n",
       "    </tr>\n",
       "    <tr>\n",
       "      <th>8</th>\n",
       "      <td>Earth Prayers From around the World: 365 Pray...</td>\n",
       "      <td>10</td>\n",
       "    </tr>\n",
       "    <tr>\n",
       "      <th>9</th>\n",
       "      <td>Final Fantasy Anthology: Official Strategy Gu...</td>\n",
       "      <td>4</td>\n",
       "    </tr>\n",
       "  </tbody>\n",
       "</table>\n",
       "</div>"
      ],
      "text/plain": [
       "                                          Book-Title  Num_of_ratings\n",
       "0   A Light in the Storm: The Civil War Diary of ...               4\n",
       "1                              Always Have Popsicles               1\n",
       "2               Apple Magic (The Collector's series)               1\n",
       "3   Ask Lily (Young Women of Faith: Lily Series, ...               1\n",
       "4   Beyond IBM: Leadership Marketing and Finance ...               1\n",
       "5   Clifford Visita El Hospital (Clifford El Gran...               1\n",
       "6                                       Dark Justice               1\n",
       "7                                           Deceived               2\n",
       "8   Earth Prayers From around the World: 365 Pray...              10\n",
       "9   Final Fantasy Anthology: Official Strategy Gu...               4"
      ]
     },
     "execution_count": 34,
     "metadata": {},
     "output_type": "execute_result"
    }
   ],
   "source": [
    "df_with_num_ratings=new_df.groupby(['Book-Title']).count().reset_index()[['Book-Title','Book-Rating']].rename(columns={'Book-Rating':'Num_of_ratings'})\n",
    "df_with_num_ratings.head(10)"
   ]
  },
  {
   "cell_type": "code",
   "execution_count": 35,
   "id": "491d23a1",
   "metadata": {
    "execution": {
     "iopub.execute_input": "2023-01-24T05:27:26.888938Z",
     "iopub.status.busy": "2023-01-24T05:27:26.888303Z",
     "iopub.status.idle": "2023-01-24T05:27:26.894964Z",
     "shell.execute_reply": "2023-01-24T05:27:26.893919Z"
    },
    "papermill": {
     "duration": 0.02849,
     "end_time": "2023-01-24T05:27:26.897068",
     "exception": false,
     "start_time": "2023-01-24T05:27:26.868578",
     "status": "completed"
    },
    "tags": []
   },
   "outputs": [
    {
     "data": {
      "text/plain": [
       "(241071, 2)"
      ]
     },
     "execution_count": 35,
     "metadata": {},
     "output_type": "execute_result"
    }
   ],
   "source": [
    "df_with_num_ratings.shape"
   ]
  },
  {
   "cell_type": "code",
   "execution_count": 36,
   "id": "953cd5eb",
   "metadata": {
    "execution": {
     "iopub.execute_input": "2023-01-24T05:27:26.935447Z",
     "iopub.status.busy": "2023-01-24T05:27:26.934778Z",
     "iopub.status.idle": "2023-01-24T05:27:27.736443Z",
     "shell.execute_reply": "2023-01-24T05:27:27.735296Z"
    },
    "papermill": {
     "duration": 0.82383,
     "end_time": "2023-01-24T05:27:27.739110",
     "exception": false,
     "start_time": "2023-01-24T05:27:26.915280",
     "status": "completed"
    },
    "tags": []
   },
   "outputs": [
    {
     "data": {
      "text/html": [
       "<div>\n",
       "<style scoped>\n",
       "    .dataframe tbody tr th:only-of-type {\n",
       "        vertical-align: middle;\n",
       "    }\n",
       "\n",
       "    .dataframe tbody tr th {\n",
       "        vertical-align: top;\n",
       "    }\n",
       "\n",
       "    .dataframe thead th {\n",
       "        text-align: right;\n",
       "    }\n",
       "</style>\n",
       "<table border=\"1\" class=\"dataframe\">\n",
       "  <thead>\n",
       "    <tr style=\"text-align: right;\">\n",
       "      <th></th>\n",
       "      <th>Book-Title</th>\n",
       "      <th>avg_ratings</th>\n",
       "    </tr>\n",
       "  </thead>\n",
       "  <tbody>\n",
       "    <tr>\n",
       "      <th>0</th>\n",
       "      <td>A Light in the Storm: The Civil War Diary of ...</td>\n",
       "      <td>2.25</td>\n",
       "    </tr>\n",
       "    <tr>\n",
       "      <th>1</th>\n",
       "      <td>Always Have Popsicles</td>\n",
       "      <td>0.00</td>\n",
       "    </tr>\n",
       "    <tr>\n",
       "      <th>2</th>\n",
       "      <td>Apple Magic (The Collector's series)</td>\n",
       "      <td>0.00</td>\n",
       "    </tr>\n",
       "    <tr>\n",
       "      <th>3</th>\n",
       "      <td>Ask Lily (Young Women of Faith: Lily Series, ...</td>\n",
       "      <td>8.00</td>\n",
       "    </tr>\n",
       "    <tr>\n",
       "      <th>4</th>\n",
       "      <td>Beyond IBM: Leadership Marketing and Finance ...</td>\n",
       "      <td>0.00</td>\n",
       "    </tr>\n",
       "    <tr>\n",
       "      <th>5</th>\n",
       "      <td>Clifford Visita El Hospital (Clifford El Gran...</td>\n",
       "      <td>0.00</td>\n",
       "    </tr>\n",
       "    <tr>\n",
       "      <th>6</th>\n",
       "      <td>Dark Justice</td>\n",
       "      <td>10.00</td>\n",
       "    </tr>\n",
       "    <tr>\n",
       "      <th>7</th>\n",
       "      <td>Deceived</td>\n",
       "      <td>0.00</td>\n",
       "    </tr>\n",
       "    <tr>\n",
       "      <th>8</th>\n",
       "      <td>Earth Prayers From around the World: 365 Pray...</td>\n",
       "      <td>5.00</td>\n",
       "    </tr>\n",
       "    <tr>\n",
       "      <th>9</th>\n",
       "      <td>Final Fantasy Anthology: Official Strategy Gu...</td>\n",
       "      <td>5.00</td>\n",
       "    </tr>\n",
       "  </tbody>\n",
       "</table>\n",
       "</div>"
      ],
      "text/plain": [
       "                                          Book-Title  avg_ratings\n",
       "0   A Light in the Storm: The Civil War Diary of ...         2.25\n",
       "1                              Always Have Popsicles         0.00\n",
       "2               Apple Magic (The Collector's series)         0.00\n",
       "3   Ask Lily (Young Women of Faith: Lily Series, ...         8.00\n",
       "4   Beyond IBM: Leadership Marketing and Finance ...         0.00\n",
       "5   Clifford Visita El Hospital (Clifford El Gran...         0.00\n",
       "6                                       Dark Justice        10.00\n",
       "7                                           Deceived         0.00\n",
       "8   Earth Prayers From around the World: 365 Pray...         5.00\n",
       "9   Final Fantasy Anthology: Official Strategy Gu...         5.00"
      ]
     },
     "execution_count": 36,
     "metadata": {},
     "output_type": "execute_result"
    }
   ],
   "source": [
    "df_with_avg_ratings=new_df.groupby(['Book-Title']).mean().reset_index()[['Book-Title','Book-Rating']].rename(columns={'Book-Rating':'avg_ratings'})\n",
    "df_with_avg_ratings.head(10)"
   ]
  },
  {
   "cell_type": "code",
   "execution_count": 37,
   "id": "2c349adb",
   "metadata": {
    "execution": {
     "iopub.execute_input": "2023-01-24T05:27:27.779142Z",
     "iopub.status.busy": "2023-01-24T05:27:27.778450Z",
     "iopub.status.idle": "2023-01-24T05:27:27.785102Z",
     "shell.execute_reply": "2023-01-24T05:27:27.784058Z"
    },
    "papermill": {
     "duration": 0.029362,
     "end_time": "2023-01-24T05:27:27.787338",
     "exception": false,
     "start_time": "2023-01-24T05:27:27.757976",
     "status": "completed"
    },
    "tags": []
   },
   "outputs": [
    {
     "data": {
      "text/plain": [
       "(241071, 2)"
      ]
     },
     "execution_count": 37,
     "metadata": {},
     "output_type": "execute_result"
    }
   ],
   "source": [
    "df_with_avg_ratings.shape"
   ]
  },
  {
   "cell_type": "code",
   "execution_count": 38,
   "id": "b9e55c77",
   "metadata": {
    "execution": {
     "iopub.execute_input": "2023-01-24T05:27:27.826352Z",
     "iopub.status.busy": "2023-01-24T05:27:27.825930Z",
     "iopub.status.idle": "2023-01-24T05:27:28.099505Z",
     "shell.execute_reply": "2023-01-24T05:27:28.098383Z"
    },
    "papermill": {
     "duration": 0.296061,
     "end_time": "2023-01-24T05:27:28.102022",
     "exception": false,
     "start_time": "2023-01-24T05:27:27.805961",
     "status": "completed"
    },
    "tags": []
   },
   "outputs": [
    {
     "data": {
      "text/html": [
       "<div>\n",
       "<style scoped>\n",
       "    .dataframe tbody tr th:only-of-type {\n",
       "        vertical-align: middle;\n",
       "    }\n",
       "\n",
       "    .dataframe tbody tr th {\n",
       "        vertical-align: top;\n",
       "    }\n",
       "\n",
       "    .dataframe thead th {\n",
       "        text-align: right;\n",
       "    }\n",
       "</style>\n",
       "<table border=\"1\" class=\"dataframe\">\n",
       "  <thead>\n",
       "    <tr style=\"text-align: right;\">\n",
       "      <th></th>\n",
       "      <th>Book-Title</th>\n",
       "      <th>Num_of_ratings</th>\n",
       "      <th>avg_ratings</th>\n",
       "    </tr>\n",
       "  </thead>\n",
       "  <tbody>\n",
       "    <tr>\n",
       "      <th>234951</th>\n",
       "      <td>Wild Animus</td>\n",
       "      <td>2502</td>\n",
       "      <td>1.019584</td>\n",
       "    </tr>\n",
       "    <tr>\n",
       "      <th>196326</th>\n",
       "      <td>The Lovely Bones: A Novel</td>\n",
       "      <td>1295</td>\n",
       "      <td>4.468726</td>\n",
       "    </tr>\n",
       "    <tr>\n",
       "      <th>183573</th>\n",
       "      <td>The Da Vinci Code</td>\n",
       "      <td>898</td>\n",
       "      <td>4.642539</td>\n",
       "    </tr>\n",
       "    <tr>\n",
       "      <th>5303</th>\n",
       "      <td>A Painted House</td>\n",
       "      <td>838</td>\n",
       "      <td>3.231504</td>\n",
       "    </tr>\n",
       "    <tr>\n",
       "      <th>199237</th>\n",
       "      <td>The Nanny Diaries: A Novel</td>\n",
       "      <td>828</td>\n",
       "      <td>3.530193</td>\n",
       "    </tr>\n",
       "    <tr>\n",
       "      <th>27922</th>\n",
       "      <td>Bridget Jones's Diary</td>\n",
       "      <td>815</td>\n",
       "      <td>3.527607</td>\n",
       "    </tr>\n",
       "    <tr>\n",
       "      <th>206502</th>\n",
       "      <td>The Secret Life of Bees</td>\n",
       "      <td>774</td>\n",
       "      <td>4.447028</td>\n",
       "    </tr>\n",
       "    <tr>\n",
       "      <th>52983</th>\n",
       "      <td>Divine Secrets of the Ya-Ya Sisterhood: A Novel</td>\n",
       "      <td>740</td>\n",
       "      <td>3.437838</td>\n",
       "    </tr>\n",
       "    <tr>\n",
       "      <th>204387</th>\n",
       "      <td>The Red Tent (Bestselling Backlist)</td>\n",
       "      <td>723</td>\n",
       "      <td>4.334716</td>\n",
       "    </tr>\n",
       "    <tr>\n",
       "      <th>14392</th>\n",
       "      <td>Angels &amp;amp; Demons</td>\n",
       "      <td>670</td>\n",
       "      <td>3.708955</td>\n",
       "    </tr>\n",
       "  </tbody>\n",
       "</table>\n",
       "</div>"
      ],
      "text/plain": [
       "                                             Book-Title  Num_of_ratings  \\\n",
       "234951                                      Wild Animus            2502   \n",
       "196326                        The Lovely Bones: A Novel            1295   \n",
       "183573                                The Da Vinci Code             898   \n",
       "5303                                    A Painted House             838   \n",
       "199237                       The Nanny Diaries: A Novel             828   \n",
       "27922                             Bridget Jones's Diary             815   \n",
       "206502                          The Secret Life of Bees             774   \n",
       "52983   Divine Secrets of the Ya-Ya Sisterhood: A Novel             740   \n",
       "204387              The Red Tent (Bestselling Backlist)             723   \n",
       "14392                               Angels &amp; Demons             670   \n",
       "\n",
       "        avg_ratings  \n",
       "234951     1.019584  \n",
       "196326     4.468726  \n",
       "183573     4.642539  \n",
       "5303       3.231504  \n",
       "199237     3.530193  \n",
       "27922      3.527607  \n",
       "206502     4.447028  \n",
       "52983      3.437838  \n",
       "204387     4.334716  \n",
       "14392      3.708955  "
      ]
     },
     "execution_count": 38,
     "metadata": {},
     "output_type": "execute_result"
    }
   ],
   "source": [
    "books_sorted=df_with_num_ratings.merge(df_with_avg_ratings,on='Book-Title').sort_values(by=['Num_of_ratings'],ascending=False)\n",
    "books_sorted.head(10)"
   ]
  },
  {
   "cell_type": "code",
   "execution_count": 39,
   "id": "1d3c12f2",
   "metadata": {
    "execution": {
     "iopub.execute_input": "2023-01-24T05:27:28.141928Z",
     "iopub.status.busy": "2023-01-24T05:27:28.141471Z",
     "iopub.status.idle": "2023-01-24T05:27:28.155861Z",
     "shell.execute_reply": "2023-01-24T05:27:28.154797Z"
    },
    "papermill": {
     "duration": 0.037125,
     "end_time": "2023-01-24T05:27:28.158355",
     "exception": false,
     "start_time": "2023-01-24T05:27:28.121230",
     "status": "completed"
    },
    "tags": []
   },
   "outputs": [
    {
     "data": {
      "text/html": [
       "<div>\n",
       "<style scoped>\n",
       "    .dataframe tbody tr th:only-of-type {\n",
       "        vertical-align: middle;\n",
       "    }\n",
       "\n",
       "    .dataframe tbody tr th {\n",
       "        vertical-align: top;\n",
       "    }\n",
       "\n",
       "    .dataframe thead th {\n",
       "        text-align: right;\n",
       "    }\n",
       "</style>\n",
       "<table border=\"1\" class=\"dataframe\">\n",
       "  <thead>\n",
       "    <tr style=\"text-align: right;\">\n",
       "      <th></th>\n",
       "      <th>Book-Title</th>\n",
       "      <th>Num_of_ratings</th>\n",
       "      <th>avg_ratings</th>\n",
       "    </tr>\n",
       "  </thead>\n",
       "  <tbody>\n",
       "    <tr>\n",
       "      <th>80434</th>\n",
       "      <td>Harry Potter and the Prisoner of Azkaban (Book 3)</td>\n",
       "      <td>428</td>\n",
       "      <td>5.852804</td>\n",
       "    </tr>\n",
       "    <tr>\n",
       "      <th>80422</th>\n",
       "      <td>Harry Potter and the Goblet of Fire (Book 4)</td>\n",
       "      <td>387</td>\n",
       "      <td>5.824289</td>\n",
       "    </tr>\n",
       "    <tr>\n",
       "      <th>80426</th>\n",
       "      <td>Harry Potter and the Order of the Phoenix (Boo...</td>\n",
       "      <td>347</td>\n",
       "      <td>5.501441</td>\n",
       "    </tr>\n",
       "    <tr>\n",
       "      <th>80414</th>\n",
       "      <td>Harry Potter and the Chamber of Secrets (Book 2)</td>\n",
       "      <td>556</td>\n",
       "      <td>5.183453</td>\n",
       "    </tr>\n",
       "    <tr>\n",
       "      <th>187377</th>\n",
       "      <td>The Fellowship of the Ring (The Lord of the Ri...</td>\n",
       "      <td>368</td>\n",
       "      <td>4.948370</td>\n",
       "    </tr>\n",
       "    <tr>\n",
       "      <th>80445</th>\n",
       "      <td>Harry Potter and the Sorcerer's Stone (Harry P...</td>\n",
       "      <td>575</td>\n",
       "      <td>4.895652</td>\n",
       "    </tr>\n",
       "    <tr>\n",
       "      <th>219741</th>\n",
       "      <td>To Kill a Mockingbird</td>\n",
       "      <td>510</td>\n",
       "      <td>4.700000</td>\n",
       "    </tr>\n",
       "    <tr>\n",
       "      <th>183573</th>\n",
       "      <td>The Da Vinci Code</td>\n",
       "      <td>898</td>\n",
       "      <td>4.642539</td>\n",
       "    </tr>\n",
       "    <tr>\n",
       "      <th>187880</th>\n",
       "      <td>The Five People You Meet in Heaven</td>\n",
       "      <td>430</td>\n",
       "      <td>4.551163</td>\n",
       "    </tr>\n",
       "    <tr>\n",
       "      <th>180556</th>\n",
       "      <td>The Catcher in the Rye</td>\n",
       "      <td>449</td>\n",
       "      <td>4.545657</td>\n",
       "    </tr>\n",
       "  </tbody>\n",
       "</table>\n",
       "</div>"
      ],
      "text/plain": [
       "                                               Book-Title  Num_of_ratings  \\\n",
       "80434   Harry Potter and the Prisoner of Azkaban (Book 3)             428   \n",
       "80422        Harry Potter and the Goblet of Fire (Book 4)             387   \n",
       "80426   Harry Potter and the Order of the Phoenix (Boo...             347   \n",
       "80414    Harry Potter and the Chamber of Secrets (Book 2)             556   \n",
       "187377  The Fellowship of the Ring (The Lord of the Ri...             368   \n",
       "80445   Harry Potter and the Sorcerer's Stone (Harry P...             575   \n",
       "219741                              To Kill a Mockingbird             510   \n",
       "183573                                  The Da Vinci Code             898   \n",
       "187880                 The Five People You Meet in Heaven             430   \n",
       "180556                             The Catcher in the Rye             449   \n",
       "\n",
       "        avg_ratings  \n",
       "80434      5.852804  \n",
       "80422      5.824289  \n",
       "80426      5.501441  \n",
       "80414      5.183453  \n",
       "187377     4.948370  \n",
       "80445      4.895652  \n",
       "219741     4.700000  \n",
       "183573     4.642539  \n",
       "187880     4.551163  \n",
       "180556     4.545657  "
      ]
     },
     "execution_count": 39,
     "metadata": {},
     "output_type": "execute_result"
    }
   ],
   "source": [
    "popular_books=books_sorted[books_sorted['Num_of_ratings']>300].sort_values(by=['avg_ratings'],ascending=False).head(100)\n",
    "popular_books.head(10)"
   ]
  },
  {
   "cell_type": "code",
   "execution_count": 40,
   "id": "23811cdc",
   "metadata": {
    "execution": {
     "iopub.execute_input": "2023-01-24T05:27:28.199029Z",
     "iopub.status.busy": "2023-01-24T05:27:28.198606Z",
     "iopub.status.idle": "2023-01-24T05:27:28.205355Z",
     "shell.execute_reply": "2023-01-24T05:27:28.204238Z"
    },
    "papermill": {
     "duration": 0.029949,
     "end_time": "2023-01-24T05:27:28.207810",
     "exception": false,
     "start_time": "2023-01-24T05:27:28.177861",
     "status": "completed"
    },
    "tags": []
   },
   "outputs": [
    {
     "data": {
      "text/plain": [
       "(100, 3)"
      ]
     },
     "execution_count": 40,
     "metadata": {},
     "output_type": "execute_result"
    }
   ],
   "source": [
    "popular_books.shape"
   ]
  },
  {
   "cell_type": "code",
   "execution_count": 41,
   "id": "e71442c8",
   "metadata": {
    "execution": {
     "iopub.execute_input": "2023-01-24T05:27:28.248772Z",
     "iopub.status.busy": "2023-01-24T05:27:28.248409Z",
     "iopub.status.idle": "2023-01-24T05:27:28.445513Z",
     "shell.execute_reply": "2023-01-24T05:27:28.444337Z"
    },
    "papermill": {
     "duration": 0.221286,
     "end_time": "2023-01-24T05:27:28.448418",
     "exception": false,
     "start_time": "2023-01-24T05:27:28.227132",
     "status": "completed"
    },
    "tags": []
   },
   "outputs": [],
   "source": [
    "popular_books=popular_books.merge(books,on='Book-Title').drop_duplicates('Book-Title')[['Book-Title','Num_of_ratings','avg_ratings']]\n"
   ]
  },
  {
   "cell_type": "code",
   "execution_count": 42,
   "id": "2cd8d80c",
   "metadata": {
    "execution": {
     "iopub.execute_input": "2023-01-24T05:27:28.489525Z",
     "iopub.status.busy": "2023-01-24T05:27:28.489101Z",
     "iopub.status.idle": "2023-01-24T05:27:28.501073Z",
     "shell.execute_reply": "2023-01-24T05:27:28.499907Z"
    },
    "papermill": {
     "duration": 0.035238,
     "end_time": "2023-01-24T05:27:28.503662",
     "exception": false,
     "start_time": "2023-01-24T05:27:28.468424",
     "status": "completed"
    },
    "tags": []
   },
   "outputs": [
    {
     "data": {
      "text/html": [
       "<div>\n",
       "<style scoped>\n",
       "    .dataframe tbody tr th:only-of-type {\n",
       "        vertical-align: middle;\n",
       "    }\n",
       "\n",
       "    .dataframe tbody tr th {\n",
       "        vertical-align: top;\n",
       "    }\n",
       "\n",
       "    .dataframe thead th {\n",
       "        text-align: right;\n",
       "    }\n",
       "</style>\n",
       "<table border=\"1\" class=\"dataframe\">\n",
       "  <thead>\n",
       "    <tr style=\"text-align: right;\">\n",
       "      <th></th>\n",
       "      <th>Book-Title</th>\n",
       "      <th>Num_of_ratings</th>\n",
       "      <th>avg_ratings</th>\n",
       "    </tr>\n",
       "  </thead>\n",
       "  <tbody>\n",
       "    <tr>\n",
       "      <th>0</th>\n",
       "      <td>Harry Potter and the Prisoner of Azkaban (Book 3)</td>\n",
       "      <td>428</td>\n",
       "      <td>5.852804</td>\n",
       "    </tr>\n",
       "    <tr>\n",
       "      <th>3</th>\n",
       "      <td>Harry Potter and the Goblet of Fire (Book 4)</td>\n",
       "      <td>387</td>\n",
       "      <td>5.824289</td>\n",
       "    </tr>\n",
       "    <tr>\n",
       "      <th>5</th>\n",
       "      <td>Harry Potter and the Order of the Phoenix (Boo...</td>\n",
       "      <td>347</td>\n",
       "      <td>5.501441</td>\n",
       "    </tr>\n",
       "    <tr>\n",
       "      <th>9</th>\n",
       "      <td>Harry Potter and the Chamber of Secrets (Book 2)</td>\n",
       "      <td>556</td>\n",
       "      <td>5.183453</td>\n",
       "    </tr>\n",
       "    <tr>\n",
       "      <th>12</th>\n",
       "      <td>The Fellowship of the Ring (The Lord of the Ri...</td>\n",
       "      <td>368</td>\n",
       "      <td>4.948370</td>\n",
       "    </tr>\n",
       "    <tr>\n",
       "      <th>21</th>\n",
       "      <td>Harry Potter and the Sorcerer's Stone (Harry P...</td>\n",
       "      <td>575</td>\n",
       "      <td>4.895652</td>\n",
       "    </tr>\n",
       "    <tr>\n",
       "      <th>23</th>\n",
       "      <td>To Kill a Mockingbird</td>\n",
       "      <td>510</td>\n",
       "      <td>4.700000</td>\n",
       "    </tr>\n",
       "    <tr>\n",
       "      <th>31</th>\n",
       "      <td>The Da Vinci Code</td>\n",
       "      <td>898</td>\n",
       "      <td>4.642539</td>\n",
       "    </tr>\n",
       "    <tr>\n",
       "      <th>37</th>\n",
       "      <td>The Five People You Meet in Heaven</td>\n",
       "      <td>430</td>\n",
       "      <td>4.551163</td>\n",
       "    </tr>\n",
       "    <tr>\n",
       "      <th>39</th>\n",
       "      <td>The Catcher in the Rye</td>\n",
       "      <td>449</td>\n",
       "      <td>4.545657</td>\n",
       "    </tr>\n",
       "  </tbody>\n",
       "</table>\n",
       "</div>"
      ],
      "text/plain": [
       "                                           Book-Title  Num_of_ratings  \\\n",
       "0   Harry Potter and the Prisoner of Azkaban (Book 3)             428   \n",
       "3        Harry Potter and the Goblet of Fire (Book 4)             387   \n",
       "5   Harry Potter and the Order of the Phoenix (Boo...             347   \n",
       "9    Harry Potter and the Chamber of Secrets (Book 2)             556   \n",
       "12  The Fellowship of the Ring (The Lord of the Ri...             368   \n",
       "21  Harry Potter and the Sorcerer's Stone (Harry P...             575   \n",
       "23                              To Kill a Mockingbird             510   \n",
       "31                                  The Da Vinci Code             898   \n",
       "37                 The Five People You Meet in Heaven             430   \n",
       "39                             The Catcher in the Rye             449   \n",
       "\n",
       "    avg_ratings  \n",
       "0      5.852804  \n",
       "3      5.824289  \n",
       "5      5.501441  \n",
       "9      5.183453  \n",
       "12     4.948370  \n",
       "21     4.895652  \n",
       "23     4.700000  \n",
       "31     4.642539  \n",
       "37     4.551163  \n",
       "39     4.545657  "
      ]
     },
     "execution_count": 42,
     "metadata": {},
     "output_type": "execute_result"
    }
   ],
   "source": [
    "popular_books.head(10)"
   ]
  },
  {
   "cell_type": "code",
   "execution_count": 43,
   "id": "9cc25e9a",
   "metadata": {
    "execution": {
     "iopub.execute_input": "2023-01-24T05:27:28.545481Z",
     "iopub.status.busy": "2023-01-24T05:27:28.545108Z",
     "iopub.status.idle": "2023-01-24T05:27:28.999291Z",
     "shell.execute_reply": "2023-01-24T05:27:28.998211Z"
    },
    "papermill": {
     "duration": 0.478293,
     "end_time": "2023-01-24T05:27:29.001782",
     "exception": false,
     "start_time": "2023-01-24T05:27:28.523489",
     "status": "completed"
    },
    "tags": []
   },
   "outputs": [
    {
     "data": {
      "image/png": "[encoded data removed]",
      "text/plain": [
       "<Figure size 1440x720 with 1 Axes>"
      ]
     },
     "metadata": {
      "needs_background": "light"
     },
     "output_type": "display_data"
    }
   ],
   "source": [
    "plt.figure(figsize=(20,10))\n",
    "sns.barplot(x=popular_books['avg_ratings'].head(15),y=popular_books['Book-Title'].head(15));"
   ]
  },
  {
   "cell_type": "code",
   "execution_count": 44,
   "id": "25820647",
   "metadata": {
    "execution": {
     "iopub.execute_input": "2023-01-24T05:27:29.045568Z",
     "iopub.status.busy": "2023-01-24T05:27:29.045159Z",
     "iopub.status.idle": "2023-01-24T05:27:29.459520Z",
     "shell.execute_reply": "2023-01-24T05:27:29.458275Z"
    },
    "papermill": {
     "duration": 0.438684,
     "end_time": "2023-01-24T05:27:29.462144",
     "exception": false,
     "start_time": "2023-01-24T05:27:29.023460",
     "status": "completed"
    },
    "tags": []
   },
   "outputs": [
    {
     "data": {
      "image/png": "[encoded data removed]",
      "text/plain": [
       "<Figure size 1440x720 with 1 Axes>"
      ]
     },
     "metadata": {
      "needs_background": "light"
     },
     "output_type": "display_data"
    }
   ],
   "source": [
    "plt.figure(figsize=(20,10))\n",
    "sns.barplot(x=popular_books['Num_of_ratings'].head(15),y=popular_books['Book-Title'].head(15));"
   ]
  },
  {
   "cell_type": "code",
   "execution_count": 45,
   "id": "e1bb5bc5",
   "metadata": {
    "execution": {
     "iopub.execute_input": "2023-01-24T05:27:29.506334Z",
     "iopub.status.busy": "2023-01-24T05:27:29.505163Z",
     "iopub.status.idle": "2023-01-24T05:27:32.100349Z",
     "shell.execute_reply": "2023-01-24T05:27:32.099057Z"
    },
    "papermill": {
     "duration": 2.620158,
     "end_time": "2023-01-24T05:27:32.103315",
     "exception": false,
     "start_time": "2023-01-24T05:27:29.483157",
     "status": "completed"
    },
    "tags": []
   },
   "outputs": [
    {
     "name": "stderr",
     "output_type": "stream",
     "text": [
      "/opt/conda/lib/python3.7/site-packages/IPython/core/interactiveshell.py:3552: DtypeWarning: Columns (3) have mixed types.Specify dtype option on import or set low_memory=False.\n",
      "  exec(code_obj, self.user_global_ns, self.user_ns)\n"
     ]
    }
   ],
   "source": [
    "books = pd.read_csv(\"../input/book-recommendation-dataset/Books.csv\")\n",
    "users = pd.read_csv(\"../input/book-recommendation-dataset/Users.csv\")\n",
    "ratings = pd.read_csv(\"../input/book-recommendation-dataset/Ratings.csv\")"
   ]
  },
  {
   "cell_type": "code",
   "execution_count": 46,
   "id": "db8c3ac9",
   "metadata": {
    "execution": {
     "iopub.execute_input": "2023-01-24T05:27:32.147565Z",
     "iopub.status.busy": "2023-01-24T05:27:32.146911Z",
     "iopub.status.idle": "2023-01-24T05:27:34.054135Z",
     "shell.execute_reply": "2023-01-24T05:27:34.052932Z"
    },
    "papermill": {
     "duration": 1.932293,
     "end_time": "2023-01-24T05:27:34.056634",
     "exception": false,
     "start_time": "2023-01-24T05:27:32.124341",
     "status": "completed"
    },
    "tags": []
   },
   "outputs": [
    {
     "data": {
      "text/html": [
       "<div>\n",
       "<style scoped>\n",
       "    .dataframe tbody tr th:only-of-type {\n",
       "        vertical-align: middle;\n",
       "    }\n",
       "\n",
       "    .dataframe tbody tr th {\n",
       "        vertical-align: top;\n",
       "    }\n",
       "\n",
       "    .dataframe thead th {\n",
       "        text-align: right;\n",
       "    }\n",
       "</style>\n",
       "<table border=\"1\" class=\"dataframe\">\n",
       "  <thead>\n",
       "    <tr style=\"text-align: right;\">\n",
       "      <th></th>\n",
       "      <th>ISBN</th>\n",
       "      <th>Book-Title</th>\n",
       "      <th>Book-Author</th>\n",
       "      <th>Year-Of-Publication</th>\n",
       "      <th>Publisher</th>\n",
       "      <th>Image-URL-S</th>\n",
       "      <th>Image-URL-M</th>\n",
       "      <th>Image-URL-L</th>\n",
       "      <th>User-ID</th>\n",
       "      <th>Book-Rating</th>\n",
       "      <th>Location</th>\n",
       "      <th>Age</th>\n",
       "    </tr>\n",
       "  </thead>\n",
       "  <tbody>\n",
       "    <tr>\n",
       "      <th>0</th>\n",
       "      <td>0195153448</td>\n",
       "      <td>Classical Mythology</td>\n",
       "      <td>Mark P. O. Morford</td>\n",
       "      <td>2002</td>\n",
       "      <td>Oxford University Press</td>\n",
       "      <td>http://images.amazon.com/images/P/0195153448.0...</td>\n",
       "      <td>http://images.amazon.com/images/P/0195153448.0...</td>\n",
       "      <td>http://images.amazon.com/images/P/0195153448.0...</td>\n",
       "      <td>2.0</td>\n",
       "      <td>0.0</td>\n",
       "      <td>stockton, california, usa</td>\n",
       "      <td>18.0</td>\n",
       "    </tr>\n",
       "    <tr>\n",
       "      <th>1</th>\n",
       "      <td>0002005018</td>\n",
       "      <td>Clara Callan</td>\n",
       "      <td>Richard Bruce Wright</td>\n",
       "      <td>2001</td>\n",
       "      <td>HarperFlamingo Canada</td>\n",
       "      <td>http://images.amazon.com/images/P/0002005018.0...</td>\n",
       "      <td>http://images.amazon.com/images/P/0002005018.0...</td>\n",
       "      <td>http://images.amazon.com/images/P/0002005018.0...</td>\n",
       "      <td>8.0</td>\n",
       "      <td>5.0</td>\n",
       "      <td>timmins, ontario, canada</td>\n",
       "      <td>NaN</td>\n",
       "    </tr>\n",
       "    <tr>\n",
       "      <th>2</th>\n",
       "      <td>0002005018</td>\n",
       "      <td>Clara Callan</td>\n",
       "      <td>Richard Bruce Wright</td>\n",
       "      <td>2001</td>\n",
       "      <td>HarperFlamingo Canada</td>\n",
       "      <td>http://images.amazon.com/images/P/0002005018.0...</td>\n",
       "      <td>http://images.amazon.com/images/P/0002005018.0...</td>\n",
       "      <td>http://images.amazon.com/images/P/0002005018.0...</td>\n",
       "      <td>11400.0</td>\n",
       "      <td>0.0</td>\n",
       "      <td>ottawa, ontario, canada</td>\n",
       "      <td>49.0</td>\n",
       "    </tr>\n",
       "    <tr>\n",
       "      <th>3</th>\n",
       "      <td>0002005018</td>\n",
       "      <td>Clara Callan</td>\n",
       "      <td>Richard Bruce Wright</td>\n",
       "      <td>2001</td>\n",
       "      <td>HarperFlamingo Canada</td>\n",
       "      <td>http://images.amazon.com/images/P/0002005018.0...</td>\n",
       "      <td>http://images.amazon.com/images/P/0002005018.0...</td>\n",
       "      <td>http://images.amazon.com/images/P/0002005018.0...</td>\n",
       "      <td>11676.0</td>\n",
       "      <td>8.0</td>\n",
       "      <td>n/a, n/a, n/a</td>\n",
       "      <td>NaN</td>\n",
       "    </tr>\n",
       "    <tr>\n",
       "      <th>4</th>\n",
       "      <td>0002005018</td>\n",
       "      <td>Clara Callan</td>\n",
       "      <td>Richard Bruce Wright</td>\n",
       "      <td>2001</td>\n",
       "      <td>HarperFlamingo Canada</td>\n",
       "      <td>http://images.amazon.com/images/P/0002005018.0...</td>\n",
       "      <td>http://images.amazon.com/images/P/0002005018.0...</td>\n",
       "      <td>http://images.amazon.com/images/P/0002005018.0...</td>\n",
       "      <td>41385.0</td>\n",
       "      <td>0.0</td>\n",
       "      <td>sudbury, ontario, canada</td>\n",
       "      <td>NaN</td>\n",
       "    </tr>\n",
       "  </tbody>\n",
       "</table>\n",
       "</div>"
      ],
      "text/plain": [
       "         ISBN           Book-Title           Book-Author Year-Of-Publication  \\\n",
       "0  0195153448  Classical Mythology    Mark P. O. Morford                2002   \n",
       "1  0002005018         Clara Callan  Richard Bruce Wright                2001   \n",
       "2  0002005018         Clara Callan  Richard Bruce Wright                2001   \n",
       "3  0002005018         Clara Callan  Richard Bruce Wright                2001   \n",
       "4  0002005018         Clara Callan  Richard Bruce Wright                2001   \n",
       "\n",
       "                 Publisher                                        Image-URL-S  \\\n",
       "0  Oxford University Press  http://images.amazon.com/images/P/0195153448.0...   \n",
       "1    HarperFlamingo Canada  http://images.amazon.com/images/P/0002005018.0...   \n",
       "2    HarperFlamingo Canada  http://images.amazon.com/images/P/0002005018.0...   \n",
       "3    HarperFlamingo Canada  http://images.amazon.com/images/P/0002005018.0...   \n",
       "4    HarperFlamingo Canada  http://images.amazon.com/images/P/0002005018.0...   \n",
       "\n",
       "                                         Image-URL-M  \\\n",
       "0  http://images.amazon.com/images/P/0195153448.0...   \n",
       "1  http://images.amazon.com/images/P/0002005018.0...   \n",
       "2  http://images.amazon.com/images/P/0002005018.0...   \n",
       "3  http://images.amazon.com/images/P/0002005018.0...   \n",
       "4  http://images.amazon.com/images/P/0002005018.0...   \n",
       "\n",
       "                                         Image-URL-L  User-ID  Book-Rating  \\\n",
       "0  http://images.amazon.com/images/P/0195153448.0...      2.0          0.0   \n",
       "1  http://images.amazon.com/images/P/0002005018.0...      8.0          5.0   \n",
       "2  http://images.amazon.com/images/P/0002005018.0...  11400.0          0.0   \n",
       "3  http://images.amazon.com/images/P/0002005018.0...  11676.0          8.0   \n",
       "4  http://images.amazon.com/images/P/0002005018.0...  41385.0          0.0   \n",
       "\n",
       "                    Location   Age  \n",
       "0  stockton, california, usa  18.0  \n",
       "1   timmins, ontario, canada   NaN  \n",
       "2    ottawa, ontario, canada  49.0  \n",
       "3              n/a, n/a, n/a   NaN  \n",
       "4   sudbury, ontario, canada   NaN  "
      ]
     },
     "execution_count": 46,
     "metadata": {},
     "output_type": "execute_result"
    }
   ],
   "source": [
    "df=books.merge(ratings,how=\"left\", on=\"ISBN\")\n",
    "df_=df.merge(users,how=\"left\", on=\"User-ID\")\n",
    "\n",
    "df=df_.copy()\n",
    "df.head()"
   ]
  },
  {
   "cell_type": "code",
   "execution_count": 47,
   "id": "3f2177d5",
   "metadata": {
    "execution": {
     "iopub.execute_input": "2023-01-24T05:27:34.101778Z",
     "iopub.status.busy": "2023-01-24T05:27:34.101349Z",
     "iopub.status.idle": "2023-01-24T05:27:34.523252Z",
     "shell.execute_reply": "2023-01-24T05:27:34.521780Z"
    },
    "papermill": {
     "duration": 0.447701,
     "end_time": "2023-01-24T05:27:34.526275",
     "exception": false,
     "start_time": "2023-01-24T05:27:34.078574",
     "status": "completed"
    },
    "tags": []
   },
   "outputs": [
    {
     "name": "stdout",
     "output_type": "stream",
     "text": [
      "<class 'pandas.core.frame.DataFrame'>\n",
      "Int64Index: 1032345 entries, 0 to 1032344\n",
      "Data columns (total 12 columns):\n",
      " #   Column               Non-Null Count    Dtype  \n",
      "---  ------               --------------    -----  \n",
      " 0   ISBN                 1032345 non-null  object \n",
      " 1   Book-Title           1032345 non-null  object \n",
      " 2   Book-Author          1032344 non-null  object \n",
      " 3   Year-Of-Publication  1032345 non-null  object \n",
      " 4   Publisher            1032343 non-null  object \n",
      " 5   Image-URL-S          1032345 non-null  object \n",
      " 6   Image-URL-M          1032345 non-null  object \n",
      " 7   Image-URL-L          1032341 non-null  object \n",
      " 8   User-ID              1031136 non-null  float64\n",
      " 9   Book-Rating          1031136 non-null  float64\n",
      " 10  Location             1031136 non-null  object \n",
      " 11  Age                  753301 non-null   float64\n",
      "dtypes: float64(3), object(9)\n",
      "memory usage: 102.4+ MB\n"
     ]
    }
   ],
   "source": [
    "df.info()"
   ]
  },
  {
   "cell_type": "code",
   "execution_count": 48,
   "id": "e17ab96f",
   "metadata": {
    "execution": {
     "iopub.execute_input": "2023-01-24T05:27:34.571917Z",
     "iopub.status.busy": "2023-01-24T05:27:34.570626Z",
     "iopub.status.idle": "2023-01-24T05:27:35.133542Z",
     "shell.execute_reply": "2023-01-24T05:27:35.132276Z"
    },
    "papermill": {
     "duration": 0.58911,
     "end_time": "2023-01-24T05:27:35.136969",
     "exception": false,
     "start_time": "2023-01-24T05:27:34.547859",
     "status": "completed"
    },
    "tags": []
   },
   "outputs": [],
   "source": [
    "df.dropna(inplace=True)\n",
    "df['Book-Rating'].fillna(0, inplace=True)"
   ]
  },
  {
   "cell_type": "code",
   "execution_count": 49,
   "id": "161e339a",
   "metadata": {
    "execution": {
     "iopub.execute_input": "2023-01-24T05:27:35.190850Z",
     "iopub.status.busy": "2023-01-24T05:27:35.189869Z",
     "iopub.status.idle": "2023-01-24T05:27:35.535904Z",
     "shell.execute_reply": "2023-01-24T05:27:35.534330Z"
    },
    "papermill": {
     "duration": 0.37432,
     "end_time": "2023-01-24T05:27:35.540278",
     "exception": false,
     "start_time": "2023-01-24T05:27:35.165958",
     "status": "completed"
    },
    "tags": []
   },
   "outputs": [
    {
     "name": "stdout",
     "output_type": "stream",
     "text": [
      "<class 'pandas.core.frame.DataFrame'>\n",
      "Int64Index: 753296 entries, 0 to 1032344\n",
      "Data columns (total 12 columns):\n",
      " #   Column               Non-Null Count   Dtype  \n",
      "---  ------               --------------   -----  \n",
      " 0   ISBN                 753296 non-null  object \n",
      " 1   Book-Title           753296 non-null  object \n",
      " 2   Book-Author          753296 non-null  object \n",
      " 3   Year-Of-Publication  753296 non-null  object \n",
      " 4   Publisher            753296 non-null  object \n",
      " 5   Image-URL-S          753296 non-null  object \n",
      " 6   Image-URL-M          753296 non-null  object \n",
      " 7   Image-URL-L          753296 non-null  object \n",
      " 8   User-ID              753296 non-null  float64\n",
      " 9   Book-Rating          753296 non-null  float64\n",
      " 10  Location             753296 non-null  object \n",
      " 11  Age                  753296 non-null  float64\n",
      "dtypes: float64(3), object(9)\n",
      "memory usage: 74.7+ MB\n"
     ]
    }
   ],
   "source": [
    "df.info()"
   ]
  },
  {
   "cell_type": "code",
   "execution_count": 50,
   "id": "b01d2c4f",
   "metadata": {
    "execution": {
     "iopub.execute_input": "2023-01-24T05:27:35.587192Z",
     "iopub.status.busy": "2023-01-24T05:27:35.586554Z",
     "iopub.status.idle": "2023-01-24T05:27:35.773563Z",
     "shell.execute_reply": "2023-01-24T05:27:35.772685Z"
    },
    "papermill": {
     "duration": 0.213625,
     "end_time": "2023-01-24T05:27:35.776694",
     "exception": false,
     "start_time": "2023-01-24T05:27:35.563069",
     "status": "completed"
    },
    "tags": []
   },
   "outputs": [],
   "source": [
    "df['User-ID'] = df['User-ID'].astype('int')\n",
    "df['Age'] = df['Age'].astype('int')\n",
    "df[\"Book-Author\"]=df[\"Book-Author\"].astype(\"string\")"
   ]
  },
  {
   "cell_type": "code",
   "execution_count": 51,
   "id": "ba5c0a10",
   "metadata": {
    "execution": {
     "iopub.execute_input": "2023-01-24T05:27:35.845443Z",
     "iopub.status.busy": "2023-01-24T05:27:35.844787Z",
     "iopub.status.idle": "2023-01-24T05:27:35.953620Z",
     "shell.execute_reply": "2023-01-24T05:27:35.952373Z"
    },
    "papermill": {
     "duration": 0.146616,
     "end_time": "2023-01-24T05:27:35.956423",
     "exception": false,
     "start_time": "2023-01-24T05:27:35.809807",
     "status": "completed"
    },
    "tags": []
   },
   "outputs": [],
   "source": [
    "df.drop(columns=[\"Image-URL-S\",\"Image-URL-M\", \"Image-URL-L\"],inplace=True)"
   ]
  },
  {
   "cell_type": "code",
   "execution_count": 52,
   "id": "41e2e357",
   "metadata": {
    "execution": {
     "iopub.execute_input": "2023-01-24T05:27:36.002059Z",
     "iopub.status.busy": "2023-01-24T05:27:36.000807Z",
     "iopub.status.idle": "2023-01-24T05:27:36.380658Z",
     "shell.execute_reply": "2023-01-24T05:27:36.379380Z"
    },
    "papermill": {
     "duration": 0.405573,
     "end_time": "2023-01-24T05:27:36.383610",
     "exception": false,
     "start_time": "2023-01-24T05:27:35.978037",
     "status": "completed"
    },
    "tags": []
   },
   "outputs": [],
   "source": [
    "book_amount = pd.DataFrame(df[\"Book-Title\"].value_counts())\n",
    "book_rare = book_amount[book_amount[\"Book-Title\"] <= 100].index\n",
    "book_common = df[~df[\"Book-Title\"].isin(book_rare)]"
   ]
  },
  {
   "cell_type": "code",
   "execution_count": 53,
   "id": "cc63fd25",
   "metadata": {
    "execution": {
     "iopub.execute_input": "2023-01-24T05:27:36.428361Z",
     "iopub.status.busy": "2023-01-24T05:27:36.427947Z",
     "iopub.status.idle": "2023-01-24T05:27:36.789713Z",
     "shell.execute_reply": "2023-01-24T05:27:36.788658Z"
    },
    "papermill": {
     "duration": 0.387201,
     "end_time": "2023-01-24T05:27:36.792280",
     "exception": false,
     "start_time": "2023-01-24T05:27:36.405079",
     "status": "completed"
    },
    "tags": []
   },
   "outputs": [],
   "source": [
    "user_book = book_common.pivot_table(index=[\"User-ID\"], columns=[\"Book-Title\"], values=\"Book-Rating\").fillna(0)"
   ]
  },
  {
   "cell_type": "code",
   "execution_count": 54,
   "id": "04beaf78",
   "metadata": {
    "execution": {
     "iopub.execute_input": "2023-01-24T05:27:36.838288Z",
     "iopub.status.busy": "2023-01-24T05:27:36.837522Z",
     "iopub.status.idle": "2023-01-24T05:27:36.867987Z",
     "shell.execute_reply": "2023-01-24T05:27:36.866889Z"
    },
    "papermill": {
     "duration": 0.055671,
     "end_time": "2023-01-24T05:27:36.870592",
     "exception": false,
     "start_time": "2023-01-24T05:27:36.814921",
     "status": "completed"
    },
    "tags": []
   },
   "outputs": [
    {
     "data": {
      "text/html": [
       "<div>\n",
       "<style scoped>\n",
       "    .dataframe tbody tr th:only-of-type {\n",
       "        vertical-align: middle;\n",
       "    }\n",
       "\n",
       "    .dataframe tbody tr th {\n",
       "        vertical-align: top;\n",
       "    }\n",
       "\n",
       "    .dataframe thead th {\n",
       "        text-align: right;\n",
       "    }\n",
       "</style>\n",
       "<table border=\"1\" class=\"dataframe\">\n",
       "  <thead>\n",
       "    <tr style=\"text-align: right;\">\n",
       "      <th>Book-Title</th>\n",
       "      <th>1984</th>\n",
       "      <th>1st to Die: A Novel</th>\n",
       "      <th>2nd Chance</th>\n",
       "      <th>4 Blondes</th>\n",
       "      <th>A Bend in the Road</th>\n",
       "      <th>A Case of Need</th>\n",
       "      <th>A Child Called \\It\\\": One Child's Courage to Survive\"</th>\n",
       "      <th>A Civil Action</th>\n",
       "      <th>A Fine Balance</th>\n",
       "      <th>A Heartbreaking Work of Staggering Genius</th>\n",
       "      <th>...</th>\n",
       "      <th>Wild Animus</th>\n",
       "      <th>Winter Moon</th>\n",
       "      <th>Winter Solstice</th>\n",
       "      <th>Wish You Well</th>\n",
       "      <th>Without Remorse</th>\n",
       "      <th>Wizard and Glass (The Dark Tower, Book 4)</th>\n",
       "      <th>Wuthering Heights</th>\n",
       "      <th>Year of Wonders</th>\n",
       "      <th>Zen and the Art of Motorcycle Maintenance: An Inquiry into Values</th>\n",
       "      <th>\\O\\\" Is for Outlaw\"</th>\n",
       "    </tr>\n",
       "    <tr>\n",
       "      <th>User-ID</th>\n",
       "      <th></th>\n",
       "      <th></th>\n",
       "      <th></th>\n",
       "      <th></th>\n",
       "      <th></th>\n",
       "      <th></th>\n",
       "      <th></th>\n",
       "      <th></th>\n",
       "      <th></th>\n",
       "      <th></th>\n",
       "      <th></th>\n",
       "      <th></th>\n",
       "      <th></th>\n",
       "      <th></th>\n",
       "      <th></th>\n",
       "      <th></th>\n",
       "      <th></th>\n",
       "      <th></th>\n",
       "      <th></th>\n",
       "      <th></th>\n",
       "      <th></th>\n",
       "    </tr>\n",
       "  </thead>\n",
       "  <tbody>\n",
       "    <tr>\n",
       "      <th>42</th>\n",
       "      <td>0.0</td>\n",
       "      <td>0.0</td>\n",
       "      <td>0.0</td>\n",
       "      <td>0.0</td>\n",
       "      <td>0.0</td>\n",
       "      <td>0.0</td>\n",
       "      <td>0.0</td>\n",
       "      <td>0.0</td>\n",
       "      <td>0.0</td>\n",
       "      <td>0.0</td>\n",
       "      <td>...</td>\n",
       "      <td>0.0</td>\n",
       "      <td>0.0</td>\n",
       "      <td>0.0</td>\n",
       "      <td>0.0</td>\n",
       "      <td>0.0</td>\n",
       "      <td>0.0</td>\n",
       "      <td>0.0</td>\n",
       "      <td>0.0</td>\n",
       "      <td>0.0</td>\n",
       "      <td>0.0</td>\n",
       "    </tr>\n",
       "    <tr>\n",
       "      <th>44</th>\n",
       "      <td>0.0</td>\n",
       "      <td>0.0</td>\n",
       "      <td>0.0</td>\n",
       "      <td>0.0</td>\n",
       "      <td>0.0</td>\n",
       "      <td>0.0</td>\n",
       "      <td>0.0</td>\n",
       "      <td>0.0</td>\n",
       "      <td>0.0</td>\n",
       "      <td>0.0</td>\n",
       "      <td>...</td>\n",
       "      <td>0.0</td>\n",
       "      <td>0.0</td>\n",
       "      <td>0.0</td>\n",
       "      <td>0.0</td>\n",
       "      <td>0.0</td>\n",
       "      <td>0.0</td>\n",
       "      <td>0.0</td>\n",
       "      <td>0.0</td>\n",
       "      <td>0.0</td>\n",
       "      <td>0.0</td>\n",
       "    </tr>\n",
       "    <tr>\n",
       "      <th>51</th>\n",
       "      <td>0.0</td>\n",
       "      <td>0.0</td>\n",
       "      <td>0.0</td>\n",
       "      <td>0.0</td>\n",
       "      <td>0.0</td>\n",
       "      <td>0.0</td>\n",
       "      <td>0.0</td>\n",
       "      <td>0.0</td>\n",
       "      <td>0.0</td>\n",
       "      <td>0.0</td>\n",
       "      <td>...</td>\n",
       "      <td>0.0</td>\n",
       "      <td>0.0</td>\n",
       "      <td>0.0</td>\n",
       "      <td>0.0</td>\n",
       "      <td>0.0</td>\n",
       "      <td>0.0</td>\n",
       "      <td>0.0</td>\n",
       "      <td>0.0</td>\n",
       "      <td>0.0</td>\n",
       "      <td>0.0</td>\n",
       "    </tr>\n",
       "    <tr>\n",
       "      <th>67</th>\n",
       "      <td>0.0</td>\n",
       "      <td>0.0</td>\n",
       "      <td>0.0</td>\n",
       "      <td>0.0</td>\n",
       "      <td>0.0</td>\n",
       "      <td>0.0</td>\n",
       "      <td>0.0</td>\n",
       "      <td>0.0</td>\n",
       "      <td>0.0</td>\n",
       "      <td>0.0</td>\n",
       "      <td>...</td>\n",
       "      <td>0.0</td>\n",
       "      <td>0.0</td>\n",
       "      <td>0.0</td>\n",
       "      <td>0.0</td>\n",
       "      <td>0.0</td>\n",
       "      <td>0.0</td>\n",
       "      <td>0.0</td>\n",
       "      <td>0.0</td>\n",
       "      <td>0.0</td>\n",
       "      <td>0.0</td>\n",
       "    </tr>\n",
       "    <tr>\n",
       "      <th>75</th>\n",
       "      <td>0.0</td>\n",
       "      <td>0.0</td>\n",
       "      <td>0.0</td>\n",
       "      <td>0.0</td>\n",
       "      <td>0.0</td>\n",
       "      <td>0.0</td>\n",
       "      <td>0.0</td>\n",
       "      <td>0.0</td>\n",
       "      <td>0.0</td>\n",
       "      <td>0.0</td>\n",
       "      <td>...</td>\n",
       "      <td>0.0</td>\n",
       "      <td>0.0</td>\n",
       "      <td>0.0</td>\n",
       "      <td>0.0</td>\n",
       "      <td>0.0</td>\n",
       "      <td>0.0</td>\n",
       "      <td>0.0</td>\n",
       "      <td>0.0</td>\n",
       "      <td>0.0</td>\n",
       "      <td>0.0</td>\n",
       "    </tr>\n",
       "  </tbody>\n",
       "</table>\n",
       "<p>5 rows × 539 columns</p>\n",
       "</div>"
      ],
      "text/plain": [
       "Book-Title  1984  1st to Die: A Novel  2nd Chance  4 Blondes  \\\n",
       "User-ID                                                        \n",
       "42           0.0                  0.0         0.0        0.0   \n",
       "44           0.0                  0.0         0.0        0.0   \n",
       "51           0.0                  0.0         0.0        0.0   \n",
       "67           0.0                  0.0         0.0        0.0   \n",
       "75           0.0                  0.0         0.0        0.0   \n",
       "\n",
       "Book-Title  A Bend in the Road  A Case of Need  \\\n",
       "User-ID                                          \n",
       "42                         0.0             0.0   \n",
       "44                         0.0             0.0   \n",
       "51                         0.0             0.0   \n",
       "67                         0.0             0.0   \n",
       "75                         0.0             0.0   \n",
       "\n",
       "Book-Title  A Child Called \\It\\\": One Child's Courage to Survive\"  \\\n",
       "User-ID                                                             \n",
       "42                                                        0.0       \n",
       "44                                                        0.0       \n",
       "51                                                        0.0       \n",
       "67                                                        0.0       \n",
       "75                                                        0.0       \n",
       "\n",
       "Book-Title  A Civil Action  A Fine Balance  \\\n",
       "User-ID                                      \n",
       "42                     0.0             0.0   \n",
       "44                     0.0             0.0   \n",
       "51                     0.0             0.0   \n",
       "67                     0.0             0.0   \n",
       "75                     0.0             0.0   \n",
       "\n",
       "Book-Title  A Heartbreaking Work of Staggering Genius  ...  Wild Animus  \\\n",
       "User-ID                                                ...                \n",
       "42                                                0.0  ...          0.0   \n",
       "44                                                0.0  ...          0.0   \n",
       "51                                                0.0  ...          0.0   \n",
       "67                                                0.0  ...          0.0   \n",
       "75                                                0.0  ...          0.0   \n",
       "\n",
       "Book-Title  Winter Moon  Winter Solstice  Wish You Well  Without Remorse  \\\n",
       "User-ID                                                                    \n",
       "42                  0.0              0.0            0.0              0.0   \n",
       "44                  0.0              0.0            0.0              0.0   \n",
       "51                  0.0              0.0            0.0              0.0   \n",
       "67                  0.0              0.0            0.0              0.0   \n",
       "75                  0.0              0.0            0.0              0.0   \n",
       "\n",
       "Book-Title  Wizard and Glass (The Dark Tower, Book 4)  Wuthering Heights  \\\n",
       "User-ID                                                                    \n",
       "42                                                0.0                0.0   \n",
       "44                                                0.0                0.0   \n",
       "51                                                0.0                0.0   \n",
       "67                                                0.0                0.0   \n",
       "75                                                0.0                0.0   \n",
       "\n",
       "Book-Title  Year of Wonders  \\\n",
       "User-ID                       \n",
       "42                      0.0   \n",
       "44                      0.0   \n",
       "51                      0.0   \n",
       "67                      0.0   \n",
       "75                      0.0   \n",
       "\n",
       "Book-Title  Zen and the Art of Motorcycle Maintenance: An Inquiry into Values  \\\n",
       "User-ID                                                                         \n",
       "42                                                        0.0                   \n",
       "44                                                        0.0                   \n",
       "51                                                        0.0                   \n",
       "67                                                        0.0                   \n",
       "75                                                        0.0                   \n",
       "\n",
       "Book-Title  \\O\\\" Is for Outlaw\"  \n",
       "User-ID                          \n",
       "42                          0.0  \n",
       "44                          0.0  \n",
       "51                          0.0  \n",
       "67                          0.0  \n",
       "75                          0.0  \n",
       "\n",
       "[5 rows x 539 columns]"
      ]
     },
     "execution_count": 54,
     "metadata": {},
     "output_type": "execute_result"
    }
   ],
   "source": [
    "user_book.head()"
   ]
  },
  {
   "cell_type": "code",
   "execution_count": 55,
   "id": "c19ff023",
   "metadata": {
    "execution": {
     "iopub.execute_input": "2023-01-24T05:27:36.916274Z",
     "iopub.status.busy": "2023-01-24T05:27:36.915858Z",
     "iopub.status.idle": "2023-01-24T05:27:52.485178Z",
     "shell.execute_reply": "2023-01-24T05:27:52.484017Z"
    },
    "papermill": {
     "duration": 15.595006,
     "end_time": "2023-01-24T05:27:52.487719",
     "exception": false,
     "start_time": "2023-01-24T05:27:36.892713",
     "status": "completed"
    },
    "tags": []
   },
   "outputs": [
    {
     "data": {
      "text/html": [
       "<div>\n",
       "<style scoped>\n",
       "    .dataframe tbody tr th:only-of-type {\n",
       "        vertical-align: middle;\n",
       "    }\n",
       "\n",
       "    .dataframe tbody tr th {\n",
       "        vertical-align: top;\n",
       "    }\n",
       "\n",
       "    .dataframe thead th {\n",
       "        text-align: right;\n",
       "    }\n",
       "</style>\n",
       "<table border=\"1\" class=\"dataframe\">\n",
       "  <thead>\n",
       "    <tr style=\"text-align: right;\">\n",
       "      <th>Book-Title</th>\n",
       "      <th>1984</th>\n",
       "      <th>1st to Die: A Novel</th>\n",
       "      <th>2nd Chance</th>\n",
       "      <th>4 Blondes</th>\n",
       "      <th>A Bend in the Road</th>\n",
       "      <th>A Case of Need</th>\n",
       "      <th>A Child Called \\It\\\": One Child's Courage to Survive\"</th>\n",
       "      <th>A Civil Action</th>\n",
       "      <th>A Fine Balance</th>\n",
       "      <th>A Heartbreaking Work of Staggering Genius</th>\n",
       "      <th>...</th>\n",
       "      <th>Wild Animus</th>\n",
       "      <th>Winter Moon</th>\n",
       "      <th>Winter Solstice</th>\n",
       "      <th>Wish You Well</th>\n",
       "      <th>Without Remorse</th>\n",
       "      <th>Wizard and Glass (The Dark Tower, Book 4)</th>\n",
       "      <th>Wuthering Heights</th>\n",
       "      <th>Year of Wonders</th>\n",
       "      <th>Zen and the Art of Motorcycle Maintenance: An Inquiry into Values</th>\n",
       "      <th>\\O\\\" Is for Outlaw\"</th>\n",
       "    </tr>\n",
       "    <tr>\n",
       "      <th>Book-Title</th>\n",
       "      <th></th>\n",
       "      <th></th>\n",
       "      <th></th>\n",
       "      <th></th>\n",
       "      <th></th>\n",
       "      <th></th>\n",
       "      <th></th>\n",
       "      <th></th>\n",
       "      <th></th>\n",
       "      <th></th>\n",
       "      <th></th>\n",
       "      <th></th>\n",
       "      <th></th>\n",
       "      <th></th>\n",
       "      <th></th>\n",
       "      <th></th>\n",
       "      <th></th>\n",
       "      <th></th>\n",
       "      <th></th>\n",
       "      <th></th>\n",
       "      <th></th>\n",
       "    </tr>\n",
       "  </thead>\n",
       "  <tbody>\n",
       "    <tr>\n",
       "      <th>1984</th>\n",
       "      <td>1.000000</td>\n",
       "      <td>0.015124</td>\n",
       "      <td>-0.005282</td>\n",
       "      <td>-0.002933</td>\n",
       "      <td>0.003248</td>\n",
       "      <td>0.032600</td>\n",
       "      <td>0.013791</td>\n",
       "      <td>0.015890</td>\n",
       "      <td>0.006777</td>\n",
       "      <td>0.023632</td>\n",
       "      <td>...</td>\n",
       "      <td>0.005542</td>\n",
       "      <td>-0.002649</td>\n",
       "      <td>0.006663</td>\n",
       "      <td>0.008706</td>\n",
       "      <td>-0.003516</td>\n",
       "      <td>0.039469</td>\n",
       "      <td>0.000613</td>\n",
       "      <td>0.026430</td>\n",
       "      <td>0.036478</td>\n",
       "      <td>0.006687</td>\n",
       "    </tr>\n",
       "    <tr>\n",
       "      <th>1st to Die: A Novel</th>\n",
       "      <td>0.015124</td>\n",
       "      <td>1.000000</td>\n",
       "      <td>0.153185</td>\n",
       "      <td>-0.003248</td>\n",
       "      <td>0.035248</td>\n",
       "      <td>0.017095</td>\n",
       "      <td>0.030503</td>\n",
       "      <td>0.033023</td>\n",
       "      <td>0.010784</td>\n",
       "      <td>0.022639</td>\n",
       "      <td>...</td>\n",
       "      <td>-0.004399</td>\n",
       "      <td>-0.002933</td>\n",
       "      <td>0.045677</td>\n",
       "      <td>0.028029</td>\n",
       "      <td>0.033099</td>\n",
       "      <td>0.010953</td>\n",
       "      <td>0.017185</td>\n",
       "      <td>0.008515</td>\n",
       "      <td>0.005887</td>\n",
       "      <td>0.037389</td>\n",
       "    </tr>\n",
       "    <tr>\n",
       "      <th>2nd Chance</th>\n",
       "      <td>-0.005282</td>\n",
       "      <td>0.153185</td>\n",
       "      <td>1.000000</td>\n",
       "      <td>-0.002608</td>\n",
       "      <td>0.027283</td>\n",
       "      <td>0.023382</td>\n",
       "      <td>-0.004325</td>\n",
       "      <td>0.012407</td>\n",
       "      <td>-0.002678</td>\n",
       "      <td>-0.004434</td>\n",
       "      <td>...</td>\n",
       "      <td>0.008911</td>\n",
       "      <td>-0.002355</td>\n",
       "      <td>0.022328</td>\n",
       "      <td>0.045365</td>\n",
       "      <td>-0.003126</td>\n",
       "      <td>0.036878</td>\n",
       "      <td>-0.003358</td>\n",
       "      <td>-0.003621</td>\n",
       "      <td>-0.000454</td>\n",
       "      <td>0.029790</td>\n",
       "    </tr>\n",
       "    <tr>\n",
       "      <th>4 Blondes</th>\n",
       "      <td>-0.002933</td>\n",
       "      <td>-0.003248</td>\n",
       "      <td>-0.002608</td>\n",
       "      <td>1.000000</td>\n",
       "      <td>-0.002591</td>\n",
       "      <td>-0.001942</td>\n",
       "      <td>-0.002402</td>\n",
       "      <td>-0.001449</td>\n",
       "      <td>-0.001487</td>\n",
       "      <td>0.034648</td>\n",
       "      <td>...</td>\n",
       "      <td>-0.001909</td>\n",
       "      <td>-0.001308</td>\n",
       "      <td>-0.001639</td>\n",
       "      <td>-0.001906</td>\n",
       "      <td>-0.001736</td>\n",
       "      <td>0.002468</td>\n",
       "      <td>-0.001865</td>\n",
       "      <td>0.012006</td>\n",
       "      <td>0.013471</td>\n",
       "      <td>-0.002033</td>\n",
       "    </tr>\n",
       "    <tr>\n",
       "      <th>A Bend in the Road</th>\n",
       "      <td>0.003248</td>\n",
       "      <td>0.035248</td>\n",
       "      <td>0.027283</td>\n",
       "      <td>-0.002591</td>\n",
       "      <td>1.000000</td>\n",
       "      <td>0.006645</td>\n",
       "      <td>0.016328</td>\n",
       "      <td>-0.002593</td>\n",
       "      <td>0.005516</td>\n",
       "      <td>0.004471</td>\n",
       "      <td>...</td>\n",
       "      <td>0.010826</td>\n",
       "      <td>-0.002340</td>\n",
       "      <td>0.025993</td>\n",
       "      <td>0.018460</td>\n",
       "      <td>-0.003106</td>\n",
       "      <td>0.004958</td>\n",
       "      <td>-0.003336</td>\n",
       "      <td>-0.003598</td>\n",
       "      <td>-0.003431</td>\n",
       "      <td>0.015402</td>\n",
       "    </tr>\n",
       "  </tbody>\n",
       "</table>\n",
       "<p>5 rows × 539 columns</p>\n",
       "</div>"
      ],
      "text/plain": [
       "Book-Title               1984  1st to Die: A Novel  2nd Chance  4 Blondes  \\\n",
       "Book-Title                                                                  \n",
       "1984                 1.000000             0.015124   -0.005282  -0.002933   \n",
       "1st to Die: A Novel  0.015124             1.000000    0.153185  -0.003248   \n",
       "2nd Chance          -0.005282             0.153185    1.000000  -0.002608   \n",
       "4 Blondes           -0.002933            -0.003248   -0.002608   1.000000   \n",
       "A Bend in the Road   0.003248             0.035248    0.027283  -0.002591   \n",
       "\n",
       "Book-Title           A Bend in the Road  A Case of Need  \\\n",
       "Book-Title                                                \n",
       "1984                           0.003248        0.032600   \n",
       "1st to Die: A Novel            0.035248        0.017095   \n",
       "2nd Chance                     0.027283        0.023382   \n",
       "4 Blondes                     -0.002591       -0.001942   \n",
       "A Bend in the Road             1.000000        0.006645   \n",
       "\n",
       "Book-Title           A Child Called \\It\\\": One Child's Courage to Survive\"  \\\n",
       "Book-Title                                                                   \n",
       "1984                                                          0.013791       \n",
       "1st to Die: A Novel                                           0.030503       \n",
       "2nd Chance                                                   -0.004325       \n",
       "4 Blondes                                                    -0.002402       \n",
       "A Bend in the Road                                            0.016328       \n",
       "\n",
       "Book-Title           A Civil Action  A Fine Balance  \\\n",
       "Book-Title                                            \n",
       "1984                       0.015890        0.006777   \n",
       "1st to Die: A Novel        0.033023        0.010784   \n",
       "2nd Chance                 0.012407       -0.002678   \n",
       "4 Blondes                 -0.001449       -0.001487   \n",
       "A Bend in the Road        -0.002593        0.005516   \n",
       "\n",
       "Book-Title           A Heartbreaking Work of Staggering Genius  ...  \\\n",
       "Book-Title                                                      ...   \n",
       "1984                                                  0.023632  ...   \n",
       "1st to Die: A Novel                                   0.022639  ...   \n",
       "2nd Chance                                           -0.004434  ...   \n",
       "4 Blondes                                             0.034648  ...   \n",
       "A Bend in the Road                                    0.004471  ...   \n",
       "\n",
       "Book-Title           Wild Animus  Winter Moon  Winter Solstice  Wish You Well  \\\n",
       "Book-Title                                                                      \n",
       "1984                    0.005542    -0.002649         0.006663       0.008706   \n",
       "1st to Die: A Novel    -0.004399    -0.002933         0.045677       0.028029   \n",
       "2nd Chance              0.008911    -0.002355         0.022328       0.045365   \n",
       "4 Blondes              -0.001909    -0.001308        -0.001639      -0.001906   \n",
       "A Bend in the Road      0.010826    -0.002340         0.025993       0.018460   \n",
       "\n",
       "Book-Title           Without Remorse  \\\n",
       "Book-Title                             \n",
       "1984                       -0.003516   \n",
       "1st to Die: A Novel         0.033099   \n",
       "2nd Chance                 -0.003126   \n",
       "4 Blondes                  -0.001736   \n",
       "A Bend in the Road         -0.003106   \n",
       "\n",
       "Book-Title           Wizard and Glass (The Dark Tower, Book 4)  \\\n",
       "Book-Title                                                       \n",
       "1984                                                  0.039469   \n",
       "1st to Die: A Novel                                   0.010953   \n",
       "2nd Chance                                            0.036878   \n",
       "4 Blondes                                             0.002468   \n",
       "A Bend in the Road                                    0.004958   \n",
       "\n",
       "Book-Title           Wuthering Heights  Year of Wonders  \\\n",
       "Book-Title                                                \n",
       "1984                          0.000613         0.026430   \n",
       "1st to Die: A Novel           0.017185         0.008515   \n",
       "2nd Chance                   -0.003358        -0.003621   \n",
       "4 Blondes                    -0.001865         0.012006   \n",
       "A Bend in the Road           -0.003336        -0.003598   \n",
       "\n",
       "Book-Title           Zen and the Art of Motorcycle Maintenance: An Inquiry into Values  \\\n",
       "Book-Title                                                                               \n",
       "1984                                                          0.036478                   \n",
       "1st to Die: A Novel                                           0.005887                   \n",
       "2nd Chance                                                   -0.000454                   \n",
       "4 Blondes                                                     0.013471                   \n",
       "A Bend in the Road                                           -0.003431                   \n",
       "\n",
       "Book-Title           \\O\\\" Is for Outlaw\"  \n",
       "Book-Title                                \n",
       "1984                            0.006687  \n",
       "1st to Die: A Novel             0.037389  \n",
       "2nd Chance                      0.029790  \n",
       "4 Blondes                      -0.002033  \n",
       "A Bend in the Road              0.015402  \n",
       "\n",
       "[5 rows x 539 columns]"
      ]
     },
     "execution_count": 55,
     "metadata": {},
     "output_type": "execute_result"
    }
   ],
   "source": [
    "book_similarity_df = user_book.corr(method='pearson')\n",
    "book_similarity_df.head()"
   ]
  },
  {
   "cell_type": "code",
   "execution_count": 56,
   "id": "7f6fe0c1",
   "metadata": {
    "execution": {
     "iopub.execute_input": "2023-01-24T05:27:52.534611Z",
     "iopub.status.busy": "2023-01-24T05:27:52.533972Z",
     "iopub.status.idle": "2023-01-24T05:27:52.539425Z",
     "shell.execute_reply": "2023-01-24T05:27:52.538670Z"
    },
    "papermill": {
     "duration": 0.031554,
     "end_time": "2023-01-24T05:27:52.541608",
     "exception": false,
     "start_time": "2023-01-24T05:27:52.510054",
     "status": "completed"
    },
    "tags": []
   },
   "outputs": [],
   "source": [
    "def get_similar_book(book_name, user_ratings):\n",
    "  similar_score = book_similarity_df[book_name] * (user_ratings - 5)\n",
    "  similar_score = similar_score.sort_values(ascending=False)\n",
    "\n",
    "  return similar_score"
   ]
  },
  {
   "cell_type": "code",
   "execution_count": 57,
   "id": "953272c9",
   "metadata": {
    "execution": {
     "iopub.execute_input": "2023-01-24T05:27:52.589412Z",
     "iopub.status.busy": "2023-01-24T05:27:52.588750Z",
     "iopub.status.idle": "2023-01-24T05:27:52.625620Z",
     "shell.execute_reply": "2023-01-24T05:27:52.624353Z"
    },
    "papermill": {
     "duration": 0.064376,
     "end_time": "2023-01-24T05:27:52.628373",
     "exception": false,
     "start_time": "2023-01-24T05:27:52.563997",
     "status": "completed"
    },
    "tags": []
   },
   "outputs": [],
   "source": [
    "book_lover = [\n",
    "    ('Harry Potter and the Chamber of Secrets (Book 2)', 9)\n",
    "]\n",
    "\n",
    "similar_books = pd.DataFrame()\n",
    "\n",
    "for book, ratings in book_lover:\n",
    "  similar_books = similar_books.append(get_similar_book(book, ratings))\n",
    "\n",
    "similar_books.head()\n",
    "recommendation_book = similar_books.sum().sort_values(ascending=False).head(10)"
   ]
  },
  {
   "cell_type": "code",
   "execution_count": 58,
   "id": "3ad0a390",
   "metadata": {
    "execution": {
     "iopub.execute_input": "2023-01-24T05:27:52.675415Z",
     "iopub.status.busy": "2023-01-24T05:27:52.674935Z",
     "iopub.status.idle": "2023-01-24T05:27:52.683424Z",
     "shell.execute_reply": "2023-01-24T05:27:52.682230Z"
    },
    "papermill": {
     "duration": 0.034905,
     "end_time": "2023-01-24T05:27:52.685776",
     "exception": false,
     "start_time": "2023-01-24T05:27:52.650871",
     "status": "completed"
    },
    "tags": []
   },
   "outputs": [
    {
     "data": {
      "text/plain": [
       "Harry Potter and the Chamber of Secrets (Book 2)                    4.000000\n",
       "Harry Potter and the Prisoner of Azkaban (Book 3)                   2.330801\n",
       "Harry Potter and the Goblet of Fire (Book 4)                        2.233924\n",
       "Harry Potter and the Sorcerer's Stone (Book 1)                      1.633320\n",
       "Harry Potter and the Order of the Phoenix (Book 5)                  1.299715\n",
       "Harry Potter and the Sorcerer's Stone (Harry Potter (Paperback))    1.253703\n",
       "The Fellowship of the Ring (The Lord of the Rings, Part 1)          0.564867\n",
       "The Bad Beginning (A Series of Unfortunate Events, Book 1)          0.355331\n",
       "The Return of the King (The Lord of the Rings, Part 3)              0.354903\n",
       "The Silmarillion                                                    0.352784\n",
       "dtype: float64"
      ]
     },
     "execution_count": 58,
     "metadata": {},
     "output_type": "execute_result"
    }
   ],
   "source": [
    "recommendation_book"
   ]
  },
  {
   "cell_type": "code",
   "execution_count": 59,
   "id": "7c87165f",
   "metadata": {
    "execution": {
     "iopub.execute_input": "2023-01-24T05:27:52.733161Z",
     "iopub.status.busy": "2023-01-24T05:27:52.732446Z",
     "iopub.status.idle": "2023-01-24T05:27:52.801547Z",
     "shell.execute_reply": "2023-01-24T05:27:52.800430Z"
    },
    "papermill": {
     "duration": 0.095757,
     "end_time": "2023-01-24T05:27:52.804352",
     "exception": false,
     "start_time": "2023-01-24T05:27:52.708595",
     "status": "completed"
    },
    "tags": []
   },
   "outputs": [],
   "source": [
    "df_new = df[[\"Book-Title\",\"Book-Author\"]]\n",
    "df_new = df_new[df_new[\"Book-Title\"].isin(recommendation_book)]\n",
    "df_new = df_new.drop_duplicates(keep=\"first\").reset_index(drop=True)"
   ]
  },
  {
   "cell_type": "code",
   "execution_count": 60,
   "id": "0d0d6abf",
   "metadata": {
    "execution": {
     "iopub.execute_input": "2023-01-24T05:27:52.851607Z",
     "iopub.status.busy": "2023-01-24T05:27:52.851199Z",
     "iopub.status.idle": "2023-01-24T05:27:52.860648Z",
     "shell.execute_reply": "2023-01-24T05:27:52.859578Z"
    },
    "papermill": {
     "duration": 0.035887,
     "end_time": "2023-01-24T05:27:52.862850",
     "exception": false,
     "start_time": "2023-01-24T05:27:52.826963",
     "status": "completed"
    },
    "tags": []
   },
   "outputs": [
    {
     "data": {
      "text/html": [
       "<div>\n",
       "<style scoped>\n",
       "    .dataframe tbody tr th:only-of-type {\n",
       "        vertical-align: middle;\n",
       "    }\n",
       "\n",
       "    .dataframe tbody tr th {\n",
       "        vertical-align: top;\n",
       "    }\n",
       "\n",
       "    .dataframe thead th {\n",
       "        text-align: right;\n",
       "    }\n",
       "</style>\n",
       "<table border=\"1\" class=\"dataframe\">\n",
       "  <thead>\n",
       "    <tr style=\"text-align: right;\">\n",
       "      <th></th>\n",
       "      <th>Book-Title</th>\n",
       "      <th>Book-Author</th>\n",
       "    </tr>\n",
       "  </thead>\n",
       "  <tbody>\n",
       "  </tbody>\n",
       "</table>\n",
       "</div>"
      ],
      "text/plain": [
       "Empty DataFrame\n",
       "Columns: [Book-Title, Book-Author]\n",
       "Index: []"
      ]
     },
     "execution_count": 60,
     "metadata": {},
     "output_type": "execute_result"
    }
   ],
   "source": [
    "df_new.head(10)"
   ]
  }
 ],
 "metadata": {
  "kernelspec": {
   "display_name": "Python 3",
   "language": "python",
   "name": "python3"
  },
  "language_info": {
   "codemirror_mode": {
    "name": "ipython",
    "version": 3
   },
   "file_extension": ".py",
   "mimetype": "text/x-python",
   "name": "python",
   "nbconvert_exporter": "python",
   "pygments_lexer": "ipython3",
   "version": "3.7.12"
  },
  "papermill": {
   "default_parameters": {},
   "duration": 50.352616,
   "end_time": "2023-01-24T05:27:54.110948",
   "environment_variables": {},
   "exception": null,
   "input_path": "__notebook__.ipynb",
   "output_path": "__notebook__.ipynb",
   "parameters": {},
   "start_time": "2023-01-24T05:27:03.758332",
   "version": "2.3.4"
  }
 },
 "nbformat": 4,
 "nbformat_minor": 5
}
